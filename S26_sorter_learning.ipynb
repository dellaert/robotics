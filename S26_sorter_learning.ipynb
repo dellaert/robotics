{
  "cells": [
    {
      "cell_type": "markdown",
      "metadata": {
        "id": "view-in-github",
        "colab_type": "text"
      },
      "source": [
        "<a href=\"https://colab.research.google.com/github/dellaert/robotics/blob/master/S26_sorter_learning.ipynb\" target=\"_parent\"><img src=\"https://colab.research.google.com/assets/colab-badge.svg\" alt=\"Open In Colab\"/></a>"
      ]
    },
    {
      "cell_type": "code",
      "execution_count": 1,
      "metadata": {
        "id": "JoW4C_OkOMhe",
        "tags": [
          "remove-cell"
        ],
        "outputId": "26310c8a-54ba-4a98-fa7b-2a1b84d3d4c3",
        "colab": {
          "base_uri": "https://localhost:8080/"
        }
      },
      "outputs": [
        {
          "output_type": "stream",
          "name": "stdout",
          "text": [
            "\u001b[K     |████████████████████████████████| 56 kB 1.4 MB/s \n",
            "\u001b[K     |████████████████████████████████| 20.5 MB 1.9 MB/s \n",
            "\u001b[?25h"
          ]
        }
      ],
      "source": [
        "%pip install -q -U gtbook\n"
      ]
    },
    {
      "cell_type": "code",
      "execution_count": 2,
      "metadata": {
        "id": "10-snNDwOSuC",
        "tags": [
          "remove-cell"
        ]
      },
      "outputs": [],
      "source": [
        "import numpy as np\n",
        "import pandas as pd\n",
        "import gtsam\n",
        "\n",
        "import plotly.graph_objs as go\n",
        "import plotly.express as px\n",
        "try:\n",
        "    import google.colab\n",
        "except:\n",
        "    import plotly.io as pio\n",
        "    pio.renderers.default = \"png\"\n",
        "\n",
        "from gtbook.discrete import Variables\n",
        "from gtbook.display import pretty, show\n",
        "\n",
        "# recap from S11:\n",
        "variables = Variables()\n",
        "categories = [\"cardboard\", \"paper\", \"can\", \"scrap metal\", \"bottle\"]\n",
        "Category = variables.discrete(\"Category\", categories)\n"
      ]
    },
    {
      "cell_type": "markdown",
      "metadata": {
        "id": "nAvx4-UCNzt2"
      },
      "source": [
        "# Learning\n",
        "\n",
        ">: We can learn prior and sensor models from data we collect."
      ]
    },
    {
      "cell_type": "code",
      "execution_count": 3,
      "metadata": {
        "tags": [
          "remove-input"
        ],
        "id": "iRo0qD4DHmHQ",
        "outputId": "d31e4998-3f69-404d-950f-62e662a5c361",
        "colab": {
          "base_uri": "https://localhost:8080/",
          "height": 277
        }
      },
      "outputs": [
        {
          "output_type": "display_data",
          "data": {
            "text/html": [
              "\n",
              "        <div align='center'>\n",
              "        <img src='https://github.com/gtbook/robotics/blob/main/Art/steampunk/S26-Trash%20sorting%20robot%20with%20gripper-01.jpg?raw=1' style='height:256 width:100%'/>\n",
              "        </div>\n",
              "        "
            ],
            "text/plain": [
              "<IPython.core.display.HTML object>"
            ]
          },
          "metadata": {}
        }
      ],
      "source": [
        "from gtbook.display import randomImages\n",
        "from IPython.core.display import display\n",
        "display(randomImages(2, 6, \"steampunk\", 1))"
      ]
    },
    {
      "cell_type": "markdown",
      "metadata": {
        "id": "tSvXl_mnYeJ_"
      },
      "source": [
        "At various times in this chapter we seemed to pull information out of thin air. But the various probabilistic models we used can be *learned* from data. This is what we will discuss below:\n",
        "\n",
        "- In section 1 we talked about priors over state. Here we will estimate prior from counts, and talk about addding \"bogus counts\" in the case that we do not have a lot of data.\n",
        "- In section 3 we discussed sensor models. Below we estimate those sensor models from counts recorded for each of the possible states.\n",
        "- Counting works for discrete sensors, but for continuous sensors we have to a bit more work. We will end this section by showing how to fit simple Gaussian sensor models to data.\n"
      ]
    },
    {
      "cell_type": "markdown",
      "metadata": {
        "id": "HyMNgnbNYeJ_"
      },
      "source": [
        "## Estimating a Discrete PMF\n",
        "\n",
        "> : Count the occurences."
      ]
    },
    {
      "cell_type": "markdown",
      "metadata": {
        "id": "ER8xW_d2HmHR"
      },
      "source": [
        "In section 1 we introduced the notion of a probability mass function (PMF) to characterize the *a priori* probability of being in a certain state. It turns out that the *normalized counts* we obtain when observing states over a long time period is a good approximation for the PMF. The more samples that go in, the better the approximation.\n",
        "\n",
        "As an example, let us assume that at a different trash sorting cell we observe the a while and note what category each piece of trash is in. We might see something like:"
      ]
    },
    {
      "cell_type": "code",
      "execution_count": 26,
      "metadata": {
        "id": "Gmnf89Q7YeJ_"
      },
      "outputs": [],
      "source": [
        "data = [1, 1, 1, 2, 1, 1, 1, 3, 0, 0, 0, 1,\n",
        "        2, 2, 2, 2, 4, 4, 4, 1, 1, 2, 1, 2, 1]\n"
      ]
    },
    {
      "cell_type": "markdown",
      "metadata": {
        "id": "c4Jt2Mwrat5Q"
      },
      "source": [
        "Using `numpy` can get the counts using the [`bincount`](https://numpy.org/doc/stable/reference/generated/numpy.bincount.html) function. We then plot the counts using plotly express:"
      ]
    },
    {
      "cell_type": "code",
      "execution_count": 32,
      "metadata": {
        "colab": {
          "base_uri": "https://localhost:8080/",
          "height": 542
        },
        "id": "pxBtzSjmZqR0",
        "outputId": "fa786abc-6d17-4b12-b134-b75592162e73"
      },
      "outputs": [
        {
          "output_type": "display_data",
          "data": {
            "text/html": [
              "<html>\n",
              "<head><meta charset=\"utf-8\" /></head>\n",
              "<body>\n",
              "    <div>\n",
              "            <script src=\"https://cdnjs.cloudflare.com/ajax/libs/mathjax/2.7.5/MathJax.js?config=TeX-AMS-MML_SVG\"></script><script type=\"text/javascript\">if (window.MathJax) {MathJax.Hub.Config({SVG: {font: \"STIX-Web\"}});}</script>\n",
              "                <script type=\"text/javascript\">window.PlotlyConfig = {MathJaxConfig: 'local'};</script>\n",
              "        <script src=\"https://cdn.plot.ly/plotly-latest.min.js\"></script>    \n",
              "            <div id=\"86d6d27d-60ac-4081-b197-7edc2a596b2c\" class=\"plotly-graph-div\" style=\"height:525px; width:100%;\"></div>\n",
              "            <script type=\"text/javascript\">\n",
              "                \n",
              "                    window.PLOTLYENV=window.PLOTLYENV || {};\n",
              "                    \n",
              "                if (document.getElementById(\"86d6d27d-60ac-4081-b197-7edc2a596b2c\")) {\n",
              "                    Plotly.newPlot(\n",
              "                        '86d6d27d-60ac-4081-b197-7edc2a596b2c',\n",
              "                        [{\"alignmentgroup\": \"True\", \"hoverlabel\": {\"namelength\": 0}, \"hovertemplate\": \"x=%{x}<br>y=%{y}\", \"legendgroup\": \"\", \"marker\": {\"color\": \"#636efa\"}, \"name\": \"\", \"offsetgroup\": \"\", \"orientation\": \"v\", \"showlegend\": false, \"textposition\": \"auto\", \"type\": \"bar\", \"x\": [\"cardboard\", \"paper\", \"can\", \"scrap metal\", \"bottle\"], \"xaxis\": \"x\", \"y\": [3, 11, 7, 1, 3], \"yaxis\": \"y\"}],\n",
              "                        {\"barmode\": \"relative\", \"legend\": {\"tracegroupgap\": 0}, \"margin\": {\"t\": 60}, \"template\": {\"data\": {\"bar\": [{\"error_x\": {\"color\": \"#2a3f5f\"}, \"error_y\": {\"color\": \"#2a3f5f\"}, \"marker\": {\"line\": {\"color\": \"#E5ECF6\", \"width\": 0.5}}, \"type\": \"bar\"}], \"barpolar\": [{\"marker\": {\"line\": {\"color\": \"#E5ECF6\", \"width\": 0.5}}, \"type\": \"barpolar\"}], \"carpet\": [{\"aaxis\": {\"endlinecolor\": \"#2a3f5f\", \"gridcolor\": \"white\", \"linecolor\": \"white\", \"minorgridcolor\": \"white\", \"startlinecolor\": \"#2a3f5f\"}, \"baxis\": {\"endlinecolor\": \"#2a3f5f\", \"gridcolor\": \"white\", \"linecolor\": \"white\", \"minorgridcolor\": \"white\", \"startlinecolor\": \"#2a3f5f\"}, \"type\": \"carpet\"}], \"choropleth\": [{\"colorbar\": {\"outlinewidth\": 0, \"ticks\": \"\"}, \"type\": \"choropleth\"}], \"contour\": [{\"colorbar\": {\"outlinewidth\": 0, \"ticks\": \"\"}, \"colorscale\": [[0.0, \"#0d0887\"], [0.1111111111111111, \"#46039f\"], [0.2222222222222222, \"#7201a8\"], [0.3333333333333333, \"#9c179e\"], [0.4444444444444444, \"#bd3786\"], [0.5555555555555556, \"#d8576b\"], [0.6666666666666666, \"#ed7953\"], [0.7777777777777778, \"#fb9f3a\"], [0.8888888888888888, \"#fdca26\"], [1.0, \"#f0f921\"]], \"type\": \"contour\"}], \"contourcarpet\": [{\"colorbar\": {\"outlinewidth\": 0, \"ticks\": \"\"}, \"type\": \"contourcarpet\"}], \"heatmap\": [{\"colorbar\": {\"outlinewidth\": 0, \"ticks\": \"\"}, \"colorscale\": [[0.0, \"#0d0887\"], [0.1111111111111111, \"#46039f\"], [0.2222222222222222, \"#7201a8\"], [0.3333333333333333, \"#9c179e\"], [0.4444444444444444, \"#bd3786\"], [0.5555555555555556, \"#d8576b\"], [0.6666666666666666, \"#ed7953\"], [0.7777777777777778, \"#fb9f3a\"], [0.8888888888888888, \"#fdca26\"], [1.0, \"#f0f921\"]], \"type\": \"heatmap\"}], \"heatmapgl\": [{\"colorbar\": {\"outlinewidth\": 0, \"ticks\": \"\"}, \"colorscale\": [[0.0, \"#0d0887\"], [0.1111111111111111, \"#46039f\"], [0.2222222222222222, \"#7201a8\"], [0.3333333333333333, \"#9c179e\"], [0.4444444444444444, \"#bd3786\"], [0.5555555555555556, \"#d8576b\"], [0.6666666666666666, \"#ed7953\"], [0.7777777777777778, \"#fb9f3a\"], [0.8888888888888888, \"#fdca26\"], [1.0, \"#f0f921\"]], \"type\": \"heatmapgl\"}], \"histogram\": [{\"marker\": {\"colorbar\": {\"outlinewidth\": 0, \"ticks\": \"\"}}, \"type\": \"histogram\"}], \"histogram2d\": [{\"colorbar\": {\"outlinewidth\": 0, \"ticks\": \"\"}, \"colorscale\": [[0.0, \"#0d0887\"], [0.1111111111111111, \"#46039f\"], [0.2222222222222222, \"#7201a8\"], [0.3333333333333333, \"#9c179e\"], [0.4444444444444444, \"#bd3786\"], [0.5555555555555556, \"#d8576b\"], [0.6666666666666666, \"#ed7953\"], [0.7777777777777778, \"#fb9f3a\"], [0.8888888888888888, \"#fdca26\"], [1.0, \"#f0f921\"]], \"type\": \"histogram2d\"}], \"histogram2dcontour\": [{\"colorbar\": {\"outlinewidth\": 0, \"ticks\": \"\"}, \"colorscale\": [[0.0, \"#0d0887\"], [0.1111111111111111, \"#46039f\"], [0.2222222222222222, \"#7201a8\"], [0.3333333333333333, \"#9c179e\"], [0.4444444444444444, \"#bd3786\"], [0.5555555555555556, \"#d8576b\"], [0.6666666666666666, \"#ed7953\"], [0.7777777777777778, \"#fb9f3a\"], [0.8888888888888888, \"#fdca26\"], [1.0, \"#f0f921\"]], \"type\": \"histogram2dcontour\"}], \"mesh3d\": [{\"colorbar\": {\"outlinewidth\": 0, \"ticks\": \"\"}, \"type\": \"mesh3d\"}], \"parcoords\": [{\"line\": {\"colorbar\": {\"outlinewidth\": 0, \"ticks\": \"\"}}, \"type\": \"parcoords\"}], \"pie\": [{\"automargin\": true, \"type\": \"pie\"}], \"scatter\": [{\"marker\": {\"colorbar\": {\"outlinewidth\": 0, \"ticks\": \"\"}}, \"type\": \"scatter\"}], \"scatter3d\": [{\"line\": {\"colorbar\": {\"outlinewidth\": 0, \"ticks\": \"\"}}, \"marker\": {\"colorbar\": {\"outlinewidth\": 0, \"ticks\": \"\"}}, \"type\": \"scatter3d\"}], \"scattercarpet\": [{\"marker\": {\"colorbar\": {\"outlinewidth\": 0, \"ticks\": \"\"}}, \"type\": \"scattercarpet\"}], \"scattergeo\": [{\"marker\": {\"colorbar\": {\"outlinewidth\": 0, \"ticks\": \"\"}}, \"type\": \"scattergeo\"}], \"scattergl\": [{\"marker\": {\"colorbar\": {\"outlinewidth\": 0, \"ticks\": \"\"}}, \"type\": \"scattergl\"}], \"scattermapbox\": [{\"marker\": {\"colorbar\": {\"outlinewidth\": 0, \"ticks\": \"\"}}, \"type\": \"scattermapbox\"}], \"scatterpolar\": [{\"marker\": {\"colorbar\": {\"outlinewidth\": 0, \"ticks\": \"\"}}, \"type\": \"scatterpolar\"}], \"scatterpolargl\": [{\"marker\": {\"colorbar\": {\"outlinewidth\": 0, \"ticks\": \"\"}}, \"type\": \"scatterpolargl\"}], \"scatterternary\": [{\"marker\": {\"colorbar\": {\"outlinewidth\": 0, \"ticks\": \"\"}}, \"type\": \"scatterternary\"}], \"surface\": [{\"colorbar\": {\"outlinewidth\": 0, \"ticks\": \"\"}, \"colorscale\": [[0.0, \"#0d0887\"], [0.1111111111111111, \"#46039f\"], [0.2222222222222222, \"#7201a8\"], [0.3333333333333333, \"#9c179e\"], [0.4444444444444444, \"#bd3786\"], [0.5555555555555556, \"#d8576b\"], [0.6666666666666666, \"#ed7953\"], [0.7777777777777778, \"#fb9f3a\"], [0.8888888888888888, \"#fdca26\"], [1.0, \"#f0f921\"]], \"type\": \"surface\"}], \"table\": [{\"cells\": {\"fill\": {\"color\": \"#EBF0F8\"}, \"line\": {\"color\": \"white\"}}, \"header\": {\"fill\": {\"color\": \"#C8D4E3\"}, \"line\": {\"color\": \"white\"}}, \"type\": \"table\"}]}, \"layout\": {\"annotationdefaults\": {\"arrowcolor\": \"#2a3f5f\", \"arrowhead\": 0, \"arrowwidth\": 1}, \"coloraxis\": {\"colorbar\": {\"outlinewidth\": 0, \"ticks\": \"\"}}, \"colorscale\": {\"diverging\": [[0, \"#8e0152\"], [0.1, \"#c51b7d\"], [0.2, \"#de77ae\"], [0.3, \"#f1b6da\"], [0.4, \"#fde0ef\"], [0.5, \"#f7f7f7\"], [0.6, \"#e6f5d0\"], [0.7, \"#b8e186\"], [0.8, \"#7fbc41\"], [0.9, \"#4d9221\"], [1, \"#276419\"]], \"sequential\": [[0.0, \"#0d0887\"], [0.1111111111111111, \"#46039f\"], [0.2222222222222222, \"#7201a8\"], [0.3333333333333333, \"#9c179e\"], [0.4444444444444444, \"#bd3786\"], [0.5555555555555556, \"#d8576b\"], [0.6666666666666666, \"#ed7953\"], [0.7777777777777778, \"#fb9f3a\"], [0.8888888888888888, \"#fdca26\"], [1.0, \"#f0f921\"]], \"sequentialminus\": [[0.0, \"#0d0887\"], [0.1111111111111111, \"#46039f\"], [0.2222222222222222, \"#7201a8\"], [0.3333333333333333, \"#9c179e\"], [0.4444444444444444, \"#bd3786\"], [0.5555555555555556, \"#d8576b\"], [0.6666666666666666, \"#ed7953\"], [0.7777777777777778, \"#fb9f3a\"], [0.8888888888888888, \"#fdca26\"], [1.0, \"#f0f921\"]]}, \"colorway\": [\"#636efa\", \"#EF553B\", \"#00cc96\", \"#ab63fa\", \"#FFA15A\", \"#19d3f3\", \"#FF6692\", \"#B6E880\", \"#FF97FF\", \"#FECB52\"], \"font\": {\"color\": \"#2a3f5f\"}, \"geo\": {\"bgcolor\": \"white\", \"lakecolor\": \"white\", \"landcolor\": \"#E5ECF6\", \"showlakes\": true, \"showland\": true, \"subunitcolor\": \"white\"}, \"hoverlabel\": {\"align\": \"left\"}, \"hovermode\": \"closest\", \"mapbox\": {\"style\": \"light\"}, \"paper_bgcolor\": \"white\", \"plot_bgcolor\": \"#E5ECF6\", \"polar\": {\"angularaxis\": {\"gridcolor\": \"white\", \"linecolor\": \"white\", \"ticks\": \"\"}, \"bgcolor\": \"#E5ECF6\", \"radialaxis\": {\"gridcolor\": \"white\", \"linecolor\": \"white\", \"ticks\": \"\"}}, \"scene\": {\"xaxis\": {\"backgroundcolor\": \"#E5ECF6\", \"gridcolor\": \"white\", \"gridwidth\": 2, \"linecolor\": \"white\", \"showbackground\": true, \"ticks\": \"\", \"zerolinecolor\": \"white\"}, \"yaxis\": {\"backgroundcolor\": \"#E5ECF6\", \"gridcolor\": \"white\", \"gridwidth\": 2, \"linecolor\": \"white\", \"showbackground\": true, \"ticks\": \"\", \"zerolinecolor\": \"white\"}, \"zaxis\": {\"backgroundcolor\": \"#E5ECF6\", \"gridcolor\": \"white\", \"gridwidth\": 2, \"linecolor\": \"white\", \"showbackground\": true, \"ticks\": \"\", \"zerolinecolor\": \"white\"}}, \"shapedefaults\": {\"line\": {\"color\": \"#2a3f5f\"}}, \"ternary\": {\"aaxis\": {\"gridcolor\": \"white\", \"linecolor\": \"white\", \"ticks\": \"\"}, \"baxis\": {\"gridcolor\": \"white\", \"linecolor\": \"white\", \"ticks\": \"\"}, \"bgcolor\": \"#E5ECF6\", \"caxis\": {\"gridcolor\": \"white\", \"linecolor\": \"white\", \"ticks\": \"\"}}, \"title\": {\"x\": 0.05}, \"xaxis\": {\"automargin\": true, \"gridcolor\": \"white\", \"linecolor\": \"white\", \"ticks\": \"\", \"title\": {\"standoff\": 15}, \"zerolinecolor\": \"white\", \"zerolinewidth\": 2}, \"yaxis\": {\"automargin\": true, \"gridcolor\": \"white\", \"linecolor\": \"white\", \"ticks\": \"\", \"title\": {\"standoff\": 15}, \"zerolinecolor\": \"white\", \"zerolinewidth\": 2}}}, \"xaxis\": {\"anchor\": \"y\", \"domain\": [0.0, 1.0], \"title\": {\"text\": \"x\"}}, \"yaxis\": {\"anchor\": \"x\", \"domain\": [0.0, 1.0], \"title\": {\"text\": \"y\"}}},\n",
              "                        {\"responsive\": true}\n",
              "                    ).then(function(){\n",
              "                            \n",
              "var gd = document.getElementById('86d6d27d-60ac-4081-b197-7edc2a596b2c');\n",
              "var x = new MutationObserver(function (mutations, observer) {{\n",
              "        var display = window.getComputedStyle(gd).display;\n",
              "        if (!display || display === 'none') {{\n",
              "            console.log([gd, 'removed!']);\n",
              "            Plotly.purge(gd);\n",
              "            observer.disconnect();\n",
              "        }}\n",
              "}});\n",
              "\n",
              "// Listen for the removal of the full notebook cells\n",
              "var notebookContainer = gd.closest('#notebook-container');\n",
              "if (notebookContainer) {{\n",
              "    x.observe(notebookContainer, {childList: true});\n",
              "}}\n",
              "\n",
              "// Listen for the clearing of the current output cell\n",
              "var outputEl = gd.closest('.output');\n",
              "if (outputEl) {{\n",
              "    x.observe(outputEl, {childList: true});\n",
              "}}\n",
              "\n",
              "                        })\n",
              "                };\n",
              "                \n",
              "            </script>\n",
              "        </div>\n",
              "</body>\n",
              "</html>"
            ]
          },
          "metadata": {}
        }
      ],
      "source": [
        "counts = np.bincount(data)\n",
        "px.bar(x=categories, y=counts)"
      ]
    },
    {
      "cell_type": "markdown",
      "source": [
        "We can then estimate the probability of each category $c_k$ simply by dividing the count $N_k$ by the number of data points $N$:\n",
        "\n",
        "$$P(x_k) \\approx \\frac{C_k}{N}$$\n",
        "\n",
        "In our example:"
      ],
      "metadata": {
        "id": "waON2mfjOZYv"
      }
    },
    {
      "cell_type": "code",
      "execution_count": 33,
      "metadata": {
        "colab": {
          "base_uri": "https://localhost:8080/"
        },
        "id": "wLX116r9aNdW",
        "outputId": "0310df3f-a65e-4565-a1d3-5ab52bfda447"
      },
      "outputs": [
        {
          "output_type": "stream",
          "name": "stdout",
          "text": [
            "Counts: [ 3 11  7  1  3]\n",
            "Estimated PMF: [0.12 0.44 0.28 0.04 0.12]\n"
          ]
        }
      ],
      "source": [
        "estimated_pmf = counts/sum(counts)\n",
        "print(f\"Counts: {counts}\\nEstimated PMF: {estimated_pmf}\")"
      ]
    },
    {
      "cell_type": "markdown",
      "metadata": {
        "id": "tTucUZMYbkX5"
      },
      "source": [
        "We can now easily turn it into a GTSAM discrete prior for pretty-printing:\n"
      ]
    },
    {
      "cell_type": "code",
      "execution_count": 37,
      "metadata": {
        "colab": {
          "base_uri": "https://localhost:8080/",
          "height": 175
        },
        "id": "NrfBXCjqbFVa",
        "outputId": "01c5e486-46ae-4fa8-fa56-0e0f4ee9d052"
      },
      "outputs": [
        {
          "output_type": "execute_result",
          "data": {
            "text/html": [
              "<div>\n",
              "<p>  <i>P(Category):</i></p>\n",
              "<div>\n",
              "<table class='DecisionTreeFactor'>\n",
              "  <thead>\n",
              "    <tr><th>Category</th><th>value</th></tr>\n",
              "  </thead>\n",
              "  <tbody>\n",
              "    <tr><th>cardboard</th><td>0.12</td></tr>\n",
              "    <tr><th>paper</th><td>0.44</td></tr>\n",
              "    <tr><th>can</th><td>0.28</td></tr>\n",
              "    <tr><th>scrap metal</th><td>0.04</td></tr>\n",
              "    <tr><th>bottle</th><td>0.12</td></tr>\n",
              "  </tbody>\n",
              "</table>\n",
              "</div>"
            ],
            "text/plain": [
              "<gtbook.display.pretty at 0x7fc785615910>"
            ]
          },
          "metadata": {},
          "execution_count": 37
        }
      ],
      "source": [
        "# prior = gtsam.DiscretePrior(Category, estimated_pmf) # will be in gtsam 4.2a3\n",
        "prior = gtsam.DiscretePrior(Category, \"0.12/0.44/0.28/0.04/0.12\")\n",
        "pretty(prior, variables)"
      ]
    },
    {
      "cell_type": "markdown",
      "metadata": {
        "id": "h6s2i0jgaH8I"
      },
      "source": [
        "Note that the counts are the only quantitities one needs to estimate a PMF: a statistication would say that the counts are a **sufficient statistic** for the purpose of estimating the probability distribution. In fact, GTSAM can just take the counts themselves, as it normalizes internally:\n"
      ]
    },
    {
      "cell_type": "code",
      "execution_count": 8,
      "metadata": {
        "colab": {
          "base_uri": "https://localhost:8080/",
          "height": 175
        },
        "id": "rBzeHJ5tKXna",
        "outputId": "0dca084f-488e-462b-da9a-56394c371f3b"
      },
      "outputs": [
        {
          "output_type": "execute_result",
          "data": {
            "text/html": [
              "<div>\n",
              "<p>  <i>P(Category):</i></p>\n",
              "<div>\n",
              "<table class='DecisionTreeFactor'>\n",
              "  <thead>\n",
              "    <tr><th>Category</th><th>value</th></tr>\n",
              "  </thead>\n",
              "  <tbody>\n",
              "    <tr><th>cardboard</th><td>0.12</td></tr>\n",
              "    <tr><th>paper</th><td>0.44</td></tr>\n",
              "    <tr><th>can</th><td>0.28</td></tr>\n",
              "    <tr><th>scrap metal</th><td>0.04</td></tr>\n",
              "    <tr><th>bottle</th><td>0.12</td></tr>\n",
              "  </tbody>\n",
              "</table>\n",
              "</div>"
            ],
            "text/plain": [
              "<gtbook.display.pretty at 0x7fc787be9390>"
            ]
          },
          "metadata": {},
          "execution_count": 8
        }
      ],
      "source": [
        "prior = gtsam.DiscretePrior(Category, \"3/11/7/1/3\")\n",
        "pretty(prior, variables)"
      ]
    },
    {
      "cell_type": "markdown",
      "metadata": {
        "id": "huXj9P8DHmHU"
      },
      "source": [
        "### Smoothing\n",
        "\n",
        "> : We make up fake data to deal with sparse data.\n"
      ]
    },
    {
      "cell_type": "markdown",
      "metadata": {
        "id": "buOzOMiVYeKA"
      },
      "source": [
        "A trick that statisticians and machine learning practicioners employ is \"smoothing\", which is especially important when you have very little data. Indeed, sometimes a category value will get zero counts, even though you *know* that occasionally we wil get that category. **Smoothing* is the process of letting the estimator know this by adding \"pseudo-counts\". For example, a very common approach is to simply add 1 to every count:\n"
      ]
    },
    {
      "cell_type": "code",
      "execution_count": 9,
      "metadata": {
        "id": "EcP7Hw3Fc8yh"
      },
      "outputs": [],
      "source": [
        "counts, _ = np.histogram(data, bins=5)\n",
        "smoothed_counts = counts + 1\n",
        "smoothed_pmf = smoothed_counts/sum(smoothed_counts)\n"
      ]
    },
    {
      "cell_type": "markdown",
      "metadata": {
        "id": "1LqZGqHEdWmW"
      },
      "source": [
        "Comparing the two, we see that the smoothed PMF is more uniform, and accords more probability \"undercounted\" categories than the raw counts:\n"
      ]
    },
    {
      "cell_type": "code",
      "execution_count": 10,
      "metadata": {
        "colab": {
          "base_uri": "https://localhost:8080/",
          "height": 206
        },
        "id": "kUEPj_pXeihi",
        "outputId": "1b76c23e-f20e-4eb7-9258-f72d57649df4"
      },
      "outputs": [
        {
          "output_type": "execute_result",
          "data": {
            "text/html": [
              "\n",
              "  <div id=\"df-3fc5e3cd-df2e-44ca-a259-9d0237c1a5dc\">\n",
              "    <div class=\"colab-df-container\">\n",
              "      <div>\n",
              "<style scoped>\n",
              "    .dataframe tbody tr th:only-of-type {\n",
              "        vertical-align: middle;\n",
              "    }\n",
              "\n",
              "    .dataframe tbody tr th {\n",
              "        vertical-align: top;\n",
              "    }\n",
              "\n",
              "    .dataframe thead th {\n",
              "        text-align: right;\n",
              "    }\n",
              "</style>\n",
              "<table border=\"1\" class=\"dataframe\">\n",
              "  <thead>\n",
              "    <tr style=\"text-align: right;\">\n",
              "      <th></th>\n",
              "      <th>raw</th>\n",
              "      <th>smoothed</th>\n",
              "    </tr>\n",
              "  </thead>\n",
              "  <tbody>\n",
              "    <tr>\n",
              "      <th>cardboard</th>\n",
              "      <td>0.12</td>\n",
              "      <td>0.133333</td>\n",
              "    </tr>\n",
              "    <tr>\n",
              "      <th>paper</th>\n",
              "      <td>0.44</td>\n",
              "      <td>0.400000</td>\n",
              "    </tr>\n",
              "    <tr>\n",
              "      <th>can</th>\n",
              "      <td>0.28</td>\n",
              "      <td>0.266667</td>\n",
              "    </tr>\n",
              "    <tr>\n",
              "      <th>scrap metal</th>\n",
              "      <td>0.04</td>\n",
              "      <td>0.066667</td>\n",
              "    </tr>\n",
              "    <tr>\n",
              "      <th>bottle</th>\n",
              "      <td>0.12</td>\n",
              "      <td>0.133333</td>\n",
              "    </tr>\n",
              "  </tbody>\n",
              "</table>\n",
              "</div>\n",
              "      <button class=\"colab-df-convert\" onclick=\"convertToInteractive('df-3fc5e3cd-df2e-44ca-a259-9d0237c1a5dc')\"\n",
              "              title=\"Convert this dataframe to an interactive table.\"\n",
              "              style=\"display:none;\">\n",
              "        \n",
              "  <svg xmlns=\"http://www.w3.org/2000/svg\" height=\"24px\"viewBox=\"0 0 24 24\"\n",
              "       width=\"24px\">\n",
              "    <path d=\"M0 0h24v24H0V0z\" fill=\"none\"/>\n",
              "    <path d=\"M18.56 5.44l.94 2.06.94-2.06 2.06-.94-2.06-.94-.94-2.06-.94 2.06-2.06.94zm-11 1L8.5 8.5l.94-2.06 2.06-.94-2.06-.94L8.5 2.5l-.94 2.06-2.06.94zm10 10l.94 2.06.94-2.06 2.06-.94-2.06-.94-.94-2.06-.94 2.06-2.06.94z\"/><path d=\"M17.41 7.96l-1.37-1.37c-.4-.4-.92-.59-1.43-.59-.52 0-1.04.2-1.43.59L10.3 9.45l-7.72 7.72c-.78.78-.78 2.05 0 2.83L4 21.41c.39.39.9.59 1.41.59.51 0 1.02-.2 1.41-.59l7.78-7.78 2.81-2.81c.8-.78.8-2.07 0-2.86zM5.41 20L4 18.59l7.72-7.72 1.47 1.35L5.41 20z\"/>\n",
              "  </svg>\n",
              "      </button>\n",
              "      \n",
              "  <style>\n",
              "    .colab-df-container {\n",
              "      display:flex;\n",
              "      flex-wrap:wrap;\n",
              "      gap: 12px;\n",
              "    }\n",
              "\n",
              "    .colab-df-convert {\n",
              "      background-color: #E8F0FE;\n",
              "      border: none;\n",
              "      border-radius: 50%;\n",
              "      cursor: pointer;\n",
              "      display: none;\n",
              "      fill: #1967D2;\n",
              "      height: 32px;\n",
              "      padding: 0 0 0 0;\n",
              "      width: 32px;\n",
              "    }\n",
              "\n",
              "    .colab-df-convert:hover {\n",
              "      background-color: #E2EBFA;\n",
              "      box-shadow: 0px 1px 2px rgba(60, 64, 67, 0.3), 0px 1px 3px 1px rgba(60, 64, 67, 0.15);\n",
              "      fill: #174EA6;\n",
              "    }\n",
              "\n",
              "    [theme=dark] .colab-df-convert {\n",
              "      background-color: #3B4455;\n",
              "      fill: #D2E3FC;\n",
              "    }\n",
              "\n",
              "    [theme=dark] .colab-df-convert:hover {\n",
              "      background-color: #434B5C;\n",
              "      box-shadow: 0px 1px 3px 1px rgba(0, 0, 0, 0.15);\n",
              "      filter: drop-shadow(0px 1px 2px rgba(0, 0, 0, 0.3));\n",
              "      fill: #FFFFFF;\n",
              "    }\n",
              "  </style>\n",
              "\n",
              "      <script>\n",
              "        const buttonEl =\n",
              "          document.querySelector('#df-3fc5e3cd-df2e-44ca-a259-9d0237c1a5dc button.colab-df-convert');\n",
              "        buttonEl.style.display =\n",
              "          google.colab.kernel.accessAllowed ? 'block' : 'none';\n",
              "\n",
              "        async function convertToInteractive(key) {\n",
              "          const element = document.querySelector('#df-3fc5e3cd-df2e-44ca-a259-9d0237c1a5dc');\n",
              "          const dataTable =\n",
              "            await google.colab.kernel.invokeFunction('convertToInteractive',\n",
              "                                                     [key], {});\n",
              "          if (!dataTable) return;\n",
              "\n",
              "          const docLinkHtml = 'Like what you see? Visit the ' +\n",
              "            '<a target=\"_blank\" href=https://colab.research.google.com/notebooks/data_table.ipynb>data table notebook</a>'\n",
              "            + ' to learn more about interactive tables.';\n",
              "          element.innerHTML = '';\n",
              "          dataTable['output_type'] = 'display_data';\n",
              "          await google.colab.output.renderOutput(dataTable, element);\n",
              "          const docLink = document.createElement('div');\n",
              "          docLink.innerHTML = docLinkHtml;\n",
              "          element.appendChild(docLink);\n",
              "        }\n",
              "      </script>\n",
              "    </div>\n",
              "  </div>\n",
              "  "
            ],
            "text/plain": [
              "              raw  smoothed\n",
              "cardboard    0.12  0.133333\n",
              "paper        0.44  0.400000\n",
              "can          0.28  0.266667\n",
              "scrap metal  0.04  0.066667\n",
              "bottle       0.12  0.133333"
            ]
          },
          "metadata": {},
          "execution_count": 10
        }
      ],
      "source": [
        "# Some pandas magic to display a nice side-by-side table:\n",
        "df = pd.DataFrame(\n",
        "    {\"raw\": estimated_pmf, \"smoothed\": smoothed_pmf}, index=categories)\n",
        "df\n"
      ]
    },
    {
      "cell_type": "code",
      "execution_count": 11,
      "metadata": {
        "colab": {
          "base_uri": "https://localhost:8080/",
          "height": 542
        },
        "id": "pt1Pj13kdgDx",
        "outputId": "44c86205-2ad0-4c00-b938-52f5818cdcaf"
      },
      "outputs": [
        {
          "output_type": "display_data",
          "data": {
            "text/html": [
              "<html>\n",
              "<head><meta charset=\"utf-8\" /></head>\n",
              "<body>\n",
              "    <div>\n",
              "            <script src=\"https://cdnjs.cloudflare.com/ajax/libs/mathjax/2.7.5/MathJax.js?config=TeX-AMS-MML_SVG\"></script><script type=\"text/javascript\">if (window.MathJax) {MathJax.Hub.Config({SVG: {font: \"STIX-Web\"}});}</script>\n",
              "                <script type=\"text/javascript\">window.PlotlyConfig = {MathJaxConfig: 'local'};</script>\n",
              "        <script src=\"https://cdn.plot.ly/plotly-latest.min.js\"></script>    \n",
              "            <div id=\"eb0ace9e-1eef-4e06-88c8-46bab03442fa\" class=\"plotly-graph-div\" style=\"height:525px; width:100%;\"></div>\n",
              "            <script type=\"text/javascript\">\n",
              "                \n",
              "                    window.PLOTLYENV=window.PLOTLYENV || {};\n",
              "                    \n",
              "                if (document.getElementById(\"eb0ace9e-1eef-4e06-88c8-46bab03442fa\")) {\n",
              "                    Plotly.newPlot(\n",
              "                        'eb0ace9e-1eef-4e06-88c8-46bab03442fa',\n",
              "                        [{\"alignmentgroup\": \"True\", \"hoverlabel\": {\"namelength\": 0}, \"hovertemplate\": \"x=%{x}<br>raw=%{y}\", \"legendgroup\": \"\", \"marker\": {\"color\": \"#636efa\"}, \"name\": \"\", \"offsetgroup\": \"\", \"orientation\": \"v\", \"showlegend\": false, \"textposition\": \"auto\", \"type\": \"bar\", \"x\": [\"cardboard\", \"paper\", \"can\", \"scrap metal\", \"bottle\"], \"xaxis\": \"x\", \"y\": [0.12, 0.44, 0.28, 0.04, 0.12], \"yaxis\": \"y\"}, {\"name\": \"smoothed\", \"type\": \"bar\", \"x\": [\"cardboard\", \"paper\", \"can\", \"scrap metal\", \"bottle\"], \"y\": [0.13333333333333333, 0.4, 0.26666666666666666, 0.06666666666666667, 0.13333333333333333]}],\n",
              "                        {\"barmode\": \"group\", \"legend\": {\"tracegroupgap\": 0}, \"template\": {\"data\": {\"bar\": [{\"error_x\": {\"color\": \"#2a3f5f\"}, \"error_y\": {\"color\": \"#2a3f5f\"}, \"marker\": {\"line\": {\"color\": \"#E5ECF6\", \"width\": 0.5}}, \"type\": \"bar\"}], \"barpolar\": [{\"marker\": {\"line\": {\"color\": \"#E5ECF6\", \"width\": 0.5}}, \"type\": \"barpolar\"}], \"carpet\": [{\"aaxis\": {\"endlinecolor\": \"#2a3f5f\", \"gridcolor\": \"white\", \"linecolor\": \"white\", \"minorgridcolor\": \"white\", \"startlinecolor\": \"#2a3f5f\"}, \"baxis\": {\"endlinecolor\": \"#2a3f5f\", \"gridcolor\": \"white\", \"linecolor\": \"white\", \"minorgridcolor\": \"white\", \"startlinecolor\": \"#2a3f5f\"}, \"type\": \"carpet\"}], \"choropleth\": [{\"colorbar\": {\"outlinewidth\": 0, \"ticks\": \"\"}, \"type\": \"choropleth\"}], \"contour\": [{\"colorbar\": {\"outlinewidth\": 0, \"ticks\": \"\"}, \"colorscale\": [[0.0, \"#0d0887\"], [0.1111111111111111, \"#46039f\"], [0.2222222222222222, \"#7201a8\"], [0.3333333333333333, \"#9c179e\"], [0.4444444444444444, \"#bd3786\"], [0.5555555555555556, \"#d8576b\"], [0.6666666666666666, \"#ed7953\"], [0.7777777777777778, \"#fb9f3a\"], [0.8888888888888888, \"#fdca26\"], [1.0, \"#f0f921\"]], \"type\": \"contour\"}], \"contourcarpet\": [{\"colorbar\": {\"outlinewidth\": 0, \"ticks\": \"\"}, \"type\": \"contourcarpet\"}], \"heatmap\": [{\"colorbar\": {\"outlinewidth\": 0, \"ticks\": \"\"}, \"colorscale\": [[0.0, \"#0d0887\"], [0.1111111111111111, \"#46039f\"], [0.2222222222222222, \"#7201a8\"], [0.3333333333333333, \"#9c179e\"], [0.4444444444444444, \"#bd3786\"], [0.5555555555555556, \"#d8576b\"], [0.6666666666666666, \"#ed7953\"], [0.7777777777777778, \"#fb9f3a\"], [0.8888888888888888, \"#fdca26\"], [1.0, \"#f0f921\"]], \"type\": \"heatmap\"}], \"heatmapgl\": [{\"colorbar\": {\"outlinewidth\": 0, \"ticks\": \"\"}, \"colorscale\": [[0.0, \"#0d0887\"], [0.1111111111111111, \"#46039f\"], [0.2222222222222222, \"#7201a8\"], [0.3333333333333333, \"#9c179e\"], [0.4444444444444444, \"#bd3786\"], [0.5555555555555556, \"#d8576b\"], [0.6666666666666666, \"#ed7953\"], [0.7777777777777778, \"#fb9f3a\"], [0.8888888888888888, \"#fdca26\"], [1.0, \"#f0f921\"]], \"type\": \"heatmapgl\"}], \"histogram\": [{\"marker\": {\"colorbar\": {\"outlinewidth\": 0, \"ticks\": \"\"}}, \"type\": \"histogram\"}], \"histogram2d\": [{\"colorbar\": {\"outlinewidth\": 0, \"ticks\": \"\"}, \"colorscale\": [[0.0, \"#0d0887\"], [0.1111111111111111, \"#46039f\"], [0.2222222222222222, \"#7201a8\"], [0.3333333333333333, \"#9c179e\"], [0.4444444444444444, \"#bd3786\"], [0.5555555555555556, \"#d8576b\"], [0.6666666666666666, \"#ed7953\"], [0.7777777777777778, \"#fb9f3a\"], [0.8888888888888888, \"#fdca26\"], [1.0, \"#f0f921\"]], \"type\": \"histogram2d\"}], \"histogram2dcontour\": [{\"colorbar\": {\"outlinewidth\": 0, \"ticks\": \"\"}, \"colorscale\": [[0.0, \"#0d0887\"], [0.1111111111111111, \"#46039f\"], [0.2222222222222222, \"#7201a8\"], [0.3333333333333333, \"#9c179e\"], [0.4444444444444444, \"#bd3786\"], [0.5555555555555556, \"#d8576b\"], [0.6666666666666666, \"#ed7953\"], [0.7777777777777778, \"#fb9f3a\"], [0.8888888888888888, \"#fdca26\"], [1.0, \"#f0f921\"]], \"type\": \"histogram2dcontour\"}], \"mesh3d\": [{\"colorbar\": {\"outlinewidth\": 0, \"ticks\": \"\"}, \"type\": \"mesh3d\"}], \"parcoords\": [{\"line\": {\"colorbar\": {\"outlinewidth\": 0, \"ticks\": \"\"}}, \"type\": \"parcoords\"}], \"pie\": [{\"automargin\": true, \"type\": \"pie\"}], \"scatter\": [{\"marker\": {\"colorbar\": {\"outlinewidth\": 0, \"ticks\": \"\"}}, \"type\": \"scatter\"}], \"scatter3d\": [{\"line\": {\"colorbar\": {\"outlinewidth\": 0, \"ticks\": \"\"}}, \"marker\": {\"colorbar\": {\"outlinewidth\": 0, \"ticks\": \"\"}}, \"type\": \"scatter3d\"}], \"scattercarpet\": [{\"marker\": {\"colorbar\": {\"outlinewidth\": 0, \"ticks\": \"\"}}, \"type\": \"scattercarpet\"}], \"scattergeo\": [{\"marker\": {\"colorbar\": {\"outlinewidth\": 0, \"ticks\": \"\"}}, \"type\": \"scattergeo\"}], \"scattergl\": [{\"marker\": {\"colorbar\": {\"outlinewidth\": 0, \"ticks\": \"\"}}, \"type\": \"scattergl\"}], \"scattermapbox\": [{\"marker\": {\"colorbar\": {\"outlinewidth\": 0, \"ticks\": \"\"}}, \"type\": \"scattermapbox\"}], \"scatterpolar\": [{\"marker\": {\"colorbar\": {\"outlinewidth\": 0, \"ticks\": \"\"}}, \"type\": \"scatterpolar\"}], \"scatterpolargl\": [{\"marker\": {\"colorbar\": {\"outlinewidth\": 0, \"ticks\": \"\"}}, \"type\": \"scatterpolargl\"}], \"scatterternary\": [{\"marker\": {\"colorbar\": {\"outlinewidth\": 0, \"ticks\": \"\"}}, \"type\": \"scatterternary\"}], \"surface\": [{\"colorbar\": {\"outlinewidth\": 0, \"ticks\": \"\"}, \"colorscale\": [[0.0, \"#0d0887\"], [0.1111111111111111, \"#46039f\"], [0.2222222222222222, \"#7201a8\"], [0.3333333333333333, \"#9c179e\"], [0.4444444444444444, \"#bd3786\"], [0.5555555555555556, \"#d8576b\"], [0.6666666666666666, \"#ed7953\"], [0.7777777777777778, \"#fb9f3a\"], [0.8888888888888888, \"#fdca26\"], [1.0, \"#f0f921\"]], \"type\": \"surface\"}], \"table\": [{\"cells\": {\"fill\": {\"color\": \"#EBF0F8\"}, \"line\": {\"color\": \"white\"}}, \"header\": {\"fill\": {\"color\": \"#C8D4E3\"}, \"line\": {\"color\": \"white\"}}, \"type\": \"table\"}]}, \"layout\": {\"annotationdefaults\": {\"arrowcolor\": \"#2a3f5f\", \"arrowhead\": 0, \"arrowwidth\": 1}, \"coloraxis\": {\"colorbar\": {\"outlinewidth\": 0, \"ticks\": \"\"}}, \"colorscale\": {\"diverging\": [[0, \"#8e0152\"], [0.1, \"#c51b7d\"], [0.2, \"#de77ae\"], [0.3, \"#f1b6da\"], [0.4, \"#fde0ef\"], [0.5, \"#f7f7f7\"], [0.6, \"#e6f5d0\"], [0.7, \"#b8e186\"], [0.8, \"#7fbc41\"], [0.9, \"#4d9221\"], [1, \"#276419\"]], \"sequential\": [[0.0, \"#0d0887\"], [0.1111111111111111, \"#46039f\"], [0.2222222222222222, \"#7201a8\"], [0.3333333333333333, \"#9c179e\"], [0.4444444444444444, \"#bd3786\"], [0.5555555555555556, \"#d8576b\"], [0.6666666666666666, \"#ed7953\"], [0.7777777777777778, \"#fb9f3a\"], [0.8888888888888888, \"#fdca26\"], [1.0, \"#f0f921\"]], \"sequentialminus\": [[0.0, \"#0d0887\"], [0.1111111111111111, \"#46039f\"], [0.2222222222222222, \"#7201a8\"], [0.3333333333333333, \"#9c179e\"], [0.4444444444444444, \"#bd3786\"], [0.5555555555555556, \"#d8576b\"], [0.6666666666666666, \"#ed7953\"], [0.7777777777777778, \"#fb9f3a\"], [0.8888888888888888, \"#fdca26\"], [1.0, \"#f0f921\"]]}, \"colorway\": [\"#636efa\", \"#EF553B\", \"#00cc96\", \"#ab63fa\", \"#FFA15A\", \"#19d3f3\", \"#FF6692\", \"#B6E880\", \"#FF97FF\", \"#FECB52\"], \"font\": {\"color\": \"#2a3f5f\"}, \"geo\": {\"bgcolor\": \"white\", \"lakecolor\": \"white\", \"landcolor\": \"#E5ECF6\", \"showlakes\": true, \"showland\": true, \"subunitcolor\": \"white\"}, \"hoverlabel\": {\"align\": \"left\"}, \"hovermode\": \"closest\", \"mapbox\": {\"style\": \"light\"}, \"paper_bgcolor\": \"white\", \"plot_bgcolor\": \"#E5ECF6\", \"polar\": {\"angularaxis\": {\"gridcolor\": \"white\", \"linecolor\": \"white\", \"ticks\": \"\"}, \"bgcolor\": \"#E5ECF6\", \"radialaxis\": {\"gridcolor\": \"white\", \"linecolor\": \"white\", \"ticks\": \"\"}}, \"scene\": {\"xaxis\": {\"backgroundcolor\": \"#E5ECF6\", \"gridcolor\": \"white\", \"gridwidth\": 2, \"linecolor\": \"white\", \"showbackground\": true, \"ticks\": \"\", \"zerolinecolor\": \"white\"}, \"yaxis\": {\"backgroundcolor\": \"#E5ECF6\", \"gridcolor\": \"white\", \"gridwidth\": 2, \"linecolor\": \"white\", \"showbackground\": true, \"ticks\": \"\", \"zerolinecolor\": \"white\"}, \"zaxis\": {\"backgroundcolor\": \"#E5ECF6\", \"gridcolor\": \"white\", \"gridwidth\": 2, \"linecolor\": \"white\", \"showbackground\": true, \"ticks\": \"\", \"zerolinecolor\": \"white\"}}, \"shapedefaults\": {\"line\": {\"color\": \"#2a3f5f\"}}, \"ternary\": {\"aaxis\": {\"gridcolor\": \"white\", \"linecolor\": \"white\", \"ticks\": \"\"}, \"baxis\": {\"gridcolor\": \"white\", \"linecolor\": \"white\", \"ticks\": \"\"}, \"bgcolor\": \"#E5ECF6\", \"caxis\": {\"gridcolor\": \"white\", \"linecolor\": \"white\", \"ticks\": \"\"}}, \"title\": {\"x\": 0.05}, \"xaxis\": {\"automargin\": true, \"gridcolor\": \"white\", \"linecolor\": \"white\", \"ticks\": \"\", \"title\": {\"standoff\": 15}, \"zerolinecolor\": \"white\", \"zerolinewidth\": 2}, \"yaxis\": {\"automargin\": true, \"gridcolor\": \"white\", \"linecolor\": \"white\", \"ticks\": \"\", \"title\": {\"standoff\": 15}, \"zerolinecolor\": \"white\", \"zerolinewidth\": 2}}}, \"title\": {\"text\": \"Smoothed PMF\"}, \"xaxis\": {\"anchor\": \"y\", \"domain\": [0.0, 1.0], \"title\": {\"text\": \"x\"}}, \"yaxis\": {\"anchor\": \"x\", \"domain\": [0.0, 1.0], \"title\": {\"text\": \"raw\"}}},\n",
              "                        {\"responsive\": true}\n",
              "                    ).then(function(){\n",
              "                            \n",
              "var gd = document.getElementById('eb0ace9e-1eef-4e06-88c8-46bab03442fa');\n",
              "var x = new MutationObserver(function (mutations, observer) {{\n",
              "        var display = window.getComputedStyle(gd).display;\n",
              "        if (!display || display === 'none') {{\n",
              "            console.log([gd, 'removed!']);\n",
              "            Plotly.purge(gd);\n",
              "            observer.disconnect();\n",
              "        }}\n",
              "}});\n",
              "\n",
              "// Listen for the removal of the full notebook cells\n",
              "var notebookContainer = gd.closest('#notebook-container');\n",
              "if (notebookContainer) {{\n",
              "    x.observe(notebookContainer, {childList: true});\n",
              "}}\n",
              "\n",
              "// Listen for the clearing of the current output cell\n",
              "var outputEl = gd.closest('.output');\n",
              "if (outputEl) {{\n",
              "    x.observe(outputEl, {childList: true});\n",
              "}}\n",
              "\n",
              "                        })\n",
              "                };\n",
              "                \n",
              "            </script>\n",
              "        </div>\n",
              "</body>\n",
              "</html>"
            ]
          },
          "metadata": {}
        }
      ],
      "source": [
        "# and some plotly magic to plot them side by side:\n",
        "fig = px.bar(df, x=categories, y=\"raw\", barmode=\"group\", title=\"Smoothed PMF\")\n",
        "fig.add_bar(x=categories, y=smoothed_pmf, name=\"smoothed\")\n"
      ]
    },
    {
      "cell_type": "markdown",
      "metadata": {
        "id": "omL1vG1RYeKA"
      },
      "source": [
        "## Modeling a Sensor from Data\n",
        "\n",
        "> : When learning a conditional distribution, we need to separate out the counts based on the conditioning variable.\n"
      ]
    },
    {
      "cell_type": "markdown",
      "metadata": {
        "id": "HfVwjRvYKsJX"
      },
      "source": [
        "A `gtsam.DiscreteConditional` takes the counts, grouped by the conditioning variable. In our case, `Category` can take on 5 separate values, and hence we have five groups. For example a binary sensor:\n"
      ]
    },
    {
      "cell_type": "code",
      "execution_count": 12,
      "metadata": {
        "colab": {
          "base_uri": "https://localhost:8080/",
          "height": 175
        },
        "id": "aO_N9CQmYeKB",
        "outputId": "1a80b9b3-2fa6-417f-966b-abbef03fa99b"
      },
      "outputs": [
        {
          "output_type": "execute_result",
          "data": {
            "text/html": [
              "<div>\n",
              "<p>  <i>P(Conductivity|Category):</i></p>\n",
              "<table class='DiscreteConditional'>\n",
              "  <thead>\n",
              "    <tr><th><i>Category</i></th><th>false</th><th>true</th></tr>\n",
              "  </thead>\n",
              "  <tbody>\n",
              "    <tr><th>cardboard</th><td>0.8</td><td>0.2</td></tr>\n",
              "    <tr><th>paper</th><td>0.4</td><td>0.6</td></tr>\n",
              "    <tr><th>can</th><td>0.75</td><td>0.25</td></tr>\n",
              "    <tr><th>scrap metal</th><td>0.4</td><td>0.6</td></tr>\n",
              "    <tr><th>bottle</th><td>0.5</td><td>0.5</td></tr>\n",
              "  </tbody>\n",
              "</table>\n",
              "</div>"
            ],
            "text/plain": [
              "<gtbook.display.pretty at 0x7fc78701bc10>"
            ]
          },
          "metadata": {},
          "execution_count": 12
        }
      ],
      "source": [
        "Conductivity = variables.binary(\"Conductivity\")\n",
        "P_Conductivty_Category = gtsam.DiscreteConditional(\n",
        "    Conductivity, [Category], \"80/20 40/60 12/4 100/150 10/10\")\n",
        "pretty(P_Conductivty_Category, variables)\n"
      ]
    },
    {
      "cell_type": "markdown",
      "metadata": {
        "id": "PkScfWimLsx0"
      },
      "source": [
        "And for a three-valued sensor:\n"
      ]
    },
    {
      "cell_type": "code",
      "execution_count": 13,
      "metadata": {
        "colab": {
          "base_uri": "https://localhost:8080/",
          "height": 175
        },
        "id": "uiIv70jsLxJV",
        "outputId": "4c769b73-0be3-4ba2-8165-b3a00e0484b1"
      },
      "outputs": [
        {
          "output_type": "execute_result",
          "data": {
            "text/html": [
              "<div>\n",
              "<p>  <i>P(ThreeValued|Category):</i></p>\n",
              "<table class='DiscreteConditional'>\n",
              "  <thead>\n",
              "    <tr><th><i>Category</i></th><th>Value1</th><th>Value2</th><th>Value3</th></tr>\n",
              "  </thead>\n",
              "  <tbody>\n",
              "    <tr><th>cardboard</th><td>0.1</td><td>0.7</td><td>0.2</td></tr>\n",
              "    <tr><th>paper</th><td>0.2</td><td>0.2</td><td>0.6</td></tr>\n",
              "    <tr><th>can</th><td>0.125</td><td>0.625</td><td>0.25</td></tr>\n",
              "    <tr><th>scrap metal</th><td>0.4</td><td>0.4</td><td>0.2</td></tr>\n",
              "    <tr><th>bottle</th><td>0.25</td><td>0.25</td><td>0.5</td></tr>\n",
              "  </tbody>\n",
              "</table>\n",
              "</div>"
            ],
            "text/plain": [
              "<gtbook.display.pretty at 0x7fc786fb8790>"
            ]
          },
          "metadata": {},
          "execution_count": 13
        }
      ],
      "source": [
        "ThreeValued = variables.discrete(\"ThreeValued\", [\"Value1\", \"Value2\", \"Value3\"])\n",
        "P_ThreeValued_Category = gtsam.DiscreteConditional(ThreeValued, [Category],\n",
        "                                                   \"10/70/20 20/20/60 2/10/4 100/100/50 5/5/10\")\n",
        "pretty(P_ThreeValued_Category, variables)\n"
      ]
    },
    {
      "cell_type": "markdown",
      "metadata": {
        "id": "yXz5j39vMV1y"
      },
      "source": [
        "Once again, note that the *rows* are normalized to be proper PMFs, given the conditioning variable. The columns are not, and instead form likelihoods over the category, when a particular value is observed for `ThreeValued` .\n",
        "\n",
        "Again, we can add pseudo-counts to all counts if we have very little data, or to specific groups if you only have prior knowledge about a particular setting. If you really know nothing about the behavior of a sensor, adding a pseudo-count of 1 is a good thing to do in general: it prevents according zero probability to a rare event. The downside is that you will have a biased view of the CPT, but this disadvantage quickly goes away as you add more and more data.\n"
      ]
    },
    {
      "cell_type": "markdown",
      "metadata": {
        "id": "g9BZmNXuYeKB"
      },
      "source": [
        "## Fitting a Gaussian\n",
        "\n",
        "If we observe *continuous* data that we suspect is generated from a Gaussian density, then we can easily fit the estimated mean $\\hat{\\mu}$ by $$\\hat{\\mu} = \\frac{1}{N} \\sum_i x_i.$$ \n",
        "\n",
        "The other statistic we need is the variance $\\sigma^2$ defined as the expectation of the squared error:$$E[(x-\\mu)^2].$$\n",
        "\n",
        "Fitting the variance can be done after we obtained the empirical mean $\\hat{\\mu}$, by\n",
        "$$\\widehat{\\sigma^2} = \\frac{1}{N-1} \\sum_i (x_i-\\hat{\\mu})^2.$$ \n",
        "\n",
        "The standard deviation is defined as the square root of the variance, and hence: $$\\widehat{\\sigma} = \\sqrt{\\widehat{\\sigma^2}}.$$\n"
      ]
    },
    {
      "cell_type": "markdown",
      "metadata": {
        "id": "OveJdIwYHmHV"
      },
      "source": [
        "**Note**: above we divide by $N-1$ and not by $N$: informally, the reason is that we already \"used up\" one data point by estimating the mean from our samples, and we correct for that to get an \"unbiased\" estimate for the variance.\n"
      ]
    },
    {
      "cell_type": "markdown",
      "metadata": {
        "id": "XC4a7pdNQcli"
      },
      "source": [
        "Below is some python code to do just that, using the `numpy` library. Let us first generate some \"data\" from a Gaussian with known mean and standard deviation:\n"
      ]
    },
    {
      "cell_type": "code",
      "execution_count": 14,
      "metadata": {
        "id": "9lB8zHGlQoQ9"
      },
      "outputs": [],
      "source": [
        "mean = 200  # grams, say...\n",
        "stddev = 50  # also in grams\n",
        "N = 200  # number of samples\n",
        "data = np.random.normal(mean, stddev, N)\n"
      ]
    },
    {
      "cell_type": "markdown",
      "metadata": {
        "id": "FiRWQvBLRPwX"
      },
      "source": [
        "When we plot a histogram, we can see the typical \"bell curve\" shape emerge (try increasing N!):\n"
      ]
    },
    {
      "cell_type": "code",
      "execution_count": 15,
      "metadata": {
        "colab": {
          "base_uri": "https://localhost:8080/",
          "height": 542
        },
        "id": "2gtKGPcdQpL9",
        "outputId": "72a154b6-1c55-44f5-b507-4389bccf109e"
      },
      "outputs": [
        {
          "output_type": "display_data",
          "data": {
            "text/html": [
              "<html>\n",
              "<head><meta charset=\"utf-8\" /></head>\n",
              "<body>\n",
              "    <div>\n",
              "            <script src=\"https://cdnjs.cloudflare.com/ajax/libs/mathjax/2.7.5/MathJax.js?config=TeX-AMS-MML_SVG\"></script><script type=\"text/javascript\">if (window.MathJax) {MathJax.Hub.Config({SVG: {font: \"STIX-Web\"}});}</script>\n",
              "                <script type=\"text/javascript\">window.PlotlyConfig = {MathJaxConfig: 'local'};</script>\n",
              "        <script src=\"https://cdn.plot.ly/plotly-latest.min.js\"></script>    \n",
              "            <div id=\"366aaa92-c810-4a93-9659-da96095703e8\" class=\"plotly-graph-div\" style=\"height:525px; width:100%;\"></div>\n",
              "            <script type=\"text/javascript\">\n",
              "                \n",
              "                    window.PLOTLYENV=window.PLOTLYENV || {};\n",
              "                    \n",
              "                if (document.getElementById(\"366aaa92-c810-4a93-9659-da96095703e8\")) {\n",
              "                    Plotly.newPlot(\n",
              "                        '366aaa92-c810-4a93-9659-da96095703e8',\n",
              "                        [{\"alignmentgroup\": \"True\", \"bingroup\": \"x\", \"hoverlabel\": {\"namelength\": 0}, \"hovertemplate\": \"x=%{x}<br>count=%{y}\", \"legendgroup\": \"\", \"marker\": {\"color\": \"#636efa\"}, \"name\": \"\", \"nbinsx\": 20, \"offsetgroup\": \"\", \"orientation\": \"v\", \"showlegend\": false, \"type\": \"histogram\", \"x\": [167.81181673068477, 205.87756472300404, 138.7151515064558, 163.1056345233273, 163.72108751481977, 201.0606644993165, 266.1806098215135, 280.9261489847065, 271.2166619304594, 231.6145069073557, 178.2204922387784, 162.5815125889177, 218.3502426678578, 172.4836818244509, 223.38711869452453, 118.78474842721279, 229.6576714483216, 182.37145963007788, 185.88966705741458, 170.33062249160096, 219.84983676890693, 148.4714799843182, 183.58315932522387, 175.75351809290626, 109.92057237791802, 228.69202051782628, 211.11030359154074, 191.23045593494183, 132.7666839586554, 148.7945716391948, 174.5851689186839, 219.94060668667356, 220.7585762936707, 250.5662820921446, 240.68729408270326, 171.80143566068756, 206.99061796055958, 231.410602571626, 196.74307820774203, 210.67299516520686, 256.0631031626213, 244.06677795428345, 204.8481814968434, 197.56610641095193, 139.61878665859967, 247.43325077153838, 173.4003096925419, 157.36027854333744, 198.22061144648032, 201.34521574907473, 232.1585983966319, 170.79368632861838, 176.88668945552354, 243.28904833281757, 145.2153936426887, 117.47428609911316, 196.7585558906732, 175.12719815764623, 255.75012254911545, 247.21411081049908, 138.22435663340679, 182.8054900990863, 202.55652189736432, 208.45822588656512, 278.81427687387225, 182.2255776997441, 264.55132126304306, 138.78112677354207, 198.2898186253567, 206.44098362831986, 245.17059780684028, 189.17736857597725, 156.43355217256007, 205.83955757548074, 238.12838829027856, 270.11927280121415, 175.88696349451405, 150.56622702882817, 59.265258642400966, 176.05215142730574, 175.31986700100194, 263.1207410310487, 226.42127813096585, 152.32470184752296, 217.20357358313683, 203.36052033444727, 157.45883624118122, 158.83849742107904, 220.75642877955372, 188.72531233403345, 299.33358242860396, 232.1894043255545, 97.0986691084337, 255.34009817287455, 233.67484158686628, 166.29295882054404, 313.59506327691906, 209.3823474189939, 240.8059375789151, 142.10599537552014, 194.9484521196615, 335.0475197435415, 218.95317464280646, 191.08932297911758, 261.8476721673001, 211.11203326996417, 169.5659257902746, 190.31985146234064, 191.69180099062442, 217.5584613696973, 282.4174610408526, 208.27631810952207, 256.8147311291171, 201.5494365123913, 247.30904478988816, 157.23741763110573, 127.45298767872342, 191.722211062295, 123.02328606217935, 232.57630887884164, 185.1472229158667, 141.76515409718388, 128.73928629432262, 288.9289738240498, 117.28845890111096, 275.7402270078444, 166.7857098319746, 281.23300072786844, 202.99407429416726, 160.6681151250976, 242.2047933690736, 192.81840504787758, 233.6198586503264, 257.56089896510764, 159.60536439834004, 246.55528971767745, 266.5144129094634, 233.3791602515983, 185.35885732376664, 134.19789732071501, 277.07244877771086, 201.4294042828565, 174.08754113240855, 329.01934873139123, 192.13442246838613, 173.44460780512372, 191.2196650042694, 230.22973348911808, 185.62456392125634, 159.99722091276533, 148.05858670872334, 260.5871271724613, 206.64779191691989, 161.47485316792307, 152.95851706127993, 183.5789489275331, 223.3296026020493, 293.94467563547755, 192.35926185814742, 266.2870439003523, 281.8308328853029, 233.21562691978824, 235.54328111547244, 153.12873207251175, 198.7573955284467, 212.08212302684552, 264.60181167625757, 180.49296521352375, 90.7085577915951, 181.53732934334948, 208.02652481038814, 190.32699855870277, 126.31598806341856, 165.31984918054943, 214.3168966038183, 180.00259381399627, 202.41080291591126, 171.31294374873244, 156.76840346959384, 200.2714342654016, 300.1645041589767, 242.55838653728125, 261.5502219961518, 216.81255373396226, 210.78895726703556, 190.6278428927767, 244.32601654139734, 236.82491384464754, 230.01619270370298, 217.47560085049503, 109.55098298543417, 208.6351475900048, 187.6697830071184, 173.62316407430873, 232.97341773938433, 189.25600664556478, 155.26288822304156, 233.89950027828243, 228.27194065117664, 168.72333432793158], \"xaxis\": \"x\", \"yaxis\": \"y\"}],\n",
              "                        {\"barmode\": \"relative\", \"legend\": {\"tracegroupgap\": 0}, \"margin\": {\"t\": 60}, \"template\": {\"data\": {\"bar\": [{\"error_x\": {\"color\": \"#2a3f5f\"}, \"error_y\": {\"color\": \"#2a3f5f\"}, \"marker\": {\"line\": {\"color\": \"#E5ECF6\", \"width\": 0.5}}, \"type\": \"bar\"}], \"barpolar\": [{\"marker\": {\"line\": {\"color\": \"#E5ECF6\", \"width\": 0.5}}, \"type\": \"barpolar\"}], \"carpet\": [{\"aaxis\": {\"endlinecolor\": \"#2a3f5f\", \"gridcolor\": \"white\", \"linecolor\": \"white\", \"minorgridcolor\": \"white\", \"startlinecolor\": \"#2a3f5f\"}, \"baxis\": {\"endlinecolor\": \"#2a3f5f\", \"gridcolor\": \"white\", \"linecolor\": \"white\", \"minorgridcolor\": \"white\", \"startlinecolor\": \"#2a3f5f\"}, \"type\": \"carpet\"}], \"choropleth\": [{\"colorbar\": {\"outlinewidth\": 0, \"ticks\": \"\"}, \"type\": \"choropleth\"}], \"contour\": [{\"colorbar\": {\"outlinewidth\": 0, \"ticks\": \"\"}, \"colorscale\": [[0.0, \"#0d0887\"], [0.1111111111111111, \"#46039f\"], [0.2222222222222222, \"#7201a8\"], [0.3333333333333333, \"#9c179e\"], [0.4444444444444444, \"#bd3786\"], [0.5555555555555556, \"#d8576b\"], [0.6666666666666666, \"#ed7953\"], [0.7777777777777778, \"#fb9f3a\"], [0.8888888888888888, \"#fdca26\"], [1.0, \"#f0f921\"]], \"type\": \"contour\"}], \"contourcarpet\": [{\"colorbar\": {\"outlinewidth\": 0, \"ticks\": \"\"}, \"type\": \"contourcarpet\"}], \"heatmap\": [{\"colorbar\": {\"outlinewidth\": 0, \"ticks\": \"\"}, \"colorscale\": [[0.0, \"#0d0887\"], [0.1111111111111111, \"#46039f\"], [0.2222222222222222, \"#7201a8\"], [0.3333333333333333, \"#9c179e\"], [0.4444444444444444, \"#bd3786\"], [0.5555555555555556, \"#d8576b\"], [0.6666666666666666, \"#ed7953\"], [0.7777777777777778, \"#fb9f3a\"], [0.8888888888888888, \"#fdca26\"], [1.0, \"#f0f921\"]], \"type\": \"heatmap\"}], \"heatmapgl\": [{\"colorbar\": {\"outlinewidth\": 0, \"ticks\": \"\"}, \"colorscale\": [[0.0, \"#0d0887\"], [0.1111111111111111, \"#46039f\"], [0.2222222222222222, \"#7201a8\"], [0.3333333333333333, \"#9c179e\"], [0.4444444444444444, \"#bd3786\"], [0.5555555555555556, \"#d8576b\"], [0.6666666666666666, \"#ed7953\"], [0.7777777777777778, \"#fb9f3a\"], [0.8888888888888888, \"#fdca26\"], [1.0, \"#f0f921\"]], \"type\": \"heatmapgl\"}], \"histogram\": [{\"marker\": {\"colorbar\": {\"outlinewidth\": 0, \"ticks\": \"\"}}, \"type\": \"histogram\"}], \"histogram2d\": [{\"colorbar\": {\"outlinewidth\": 0, \"ticks\": \"\"}, \"colorscale\": [[0.0, \"#0d0887\"], [0.1111111111111111, \"#46039f\"], [0.2222222222222222, \"#7201a8\"], [0.3333333333333333, \"#9c179e\"], [0.4444444444444444, \"#bd3786\"], [0.5555555555555556, \"#d8576b\"], [0.6666666666666666, \"#ed7953\"], [0.7777777777777778, \"#fb9f3a\"], [0.8888888888888888, \"#fdca26\"], [1.0, \"#f0f921\"]], \"type\": \"histogram2d\"}], \"histogram2dcontour\": [{\"colorbar\": {\"outlinewidth\": 0, \"ticks\": \"\"}, \"colorscale\": [[0.0, \"#0d0887\"], [0.1111111111111111, \"#46039f\"], [0.2222222222222222, \"#7201a8\"], [0.3333333333333333, \"#9c179e\"], [0.4444444444444444, \"#bd3786\"], [0.5555555555555556, \"#d8576b\"], [0.6666666666666666, \"#ed7953\"], [0.7777777777777778, \"#fb9f3a\"], [0.8888888888888888, \"#fdca26\"], [1.0, \"#f0f921\"]], \"type\": \"histogram2dcontour\"}], \"mesh3d\": [{\"colorbar\": {\"outlinewidth\": 0, \"ticks\": \"\"}, \"type\": \"mesh3d\"}], \"parcoords\": [{\"line\": {\"colorbar\": {\"outlinewidth\": 0, \"ticks\": \"\"}}, \"type\": \"parcoords\"}], \"pie\": [{\"automargin\": true, \"type\": \"pie\"}], \"scatter\": [{\"marker\": {\"colorbar\": {\"outlinewidth\": 0, \"ticks\": \"\"}}, \"type\": \"scatter\"}], \"scatter3d\": [{\"line\": {\"colorbar\": {\"outlinewidth\": 0, \"ticks\": \"\"}}, \"marker\": {\"colorbar\": {\"outlinewidth\": 0, \"ticks\": \"\"}}, \"type\": \"scatter3d\"}], \"scattercarpet\": [{\"marker\": {\"colorbar\": {\"outlinewidth\": 0, \"ticks\": \"\"}}, \"type\": \"scattercarpet\"}], \"scattergeo\": [{\"marker\": {\"colorbar\": {\"outlinewidth\": 0, \"ticks\": \"\"}}, \"type\": \"scattergeo\"}], \"scattergl\": [{\"marker\": {\"colorbar\": {\"outlinewidth\": 0, \"ticks\": \"\"}}, \"type\": \"scattergl\"}], \"scattermapbox\": [{\"marker\": {\"colorbar\": {\"outlinewidth\": 0, \"ticks\": \"\"}}, \"type\": \"scattermapbox\"}], \"scatterpolar\": [{\"marker\": {\"colorbar\": {\"outlinewidth\": 0, \"ticks\": \"\"}}, \"type\": \"scatterpolar\"}], \"scatterpolargl\": [{\"marker\": {\"colorbar\": {\"outlinewidth\": 0, \"ticks\": \"\"}}, \"type\": \"scatterpolargl\"}], \"scatterternary\": [{\"marker\": {\"colorbar\": {\"outlinewidth\": 0, \"ticks\": \"\"}}, \"type\": \"scatterternary\"}], \"surface\": [{\"colorbar\": {\"outlinewidth\": 0, \"ticks\": \"\"}, \"colorscale\": [[0.0, \"#0d0887\"], [0.1111111111111111, \"#46039f\"], [0.2222222222222222, \"#7201a8\"], [0.3333333333333333, \"#9c179e\"], [0.4444444444444444, \"#bd3786\"], [0.5555555555555556, \"#d8576b\"], [0.6666666666666666, \"#ed7953\"], [0.7777777777777778, \"#fb9f3a\"], [0.8888888888888888, \"#fdca26\"], [1.0, \"#f0f921\"]], \"type\": \"surface\"}], \"table\": [{\"cells\": {\"fill\": {\"color\": \"#EBF0F8\"}, \"line\": {\"color\": \"white\"}}, \"header\": {\"fill\": {\"color\": \"#C8D4E3\"}, \"line\": {\"color\": \"white\"}}, \"type\": \"table\"}]}, \"layout\": {\"annotationdefaults\": {\"arrowcolor\": \"#2a3f5f\", \"arrowhead\": 0, \"arrowwidth\": 1}, \"coloraxis\": {\"colorbar\": {\"outlinewidth\": 0, \"ticks\": \"\"}}, \"colorscale\": {\"diverging\": [[0, \"#8e0152\"], [0.1, \"#c51b7d\"], [0.2, \"#de77ae\"], [0.3, \"#f1b6da\"], [0.4, \"#fde0ef\"], [0.5, \"#f7f7f7\"], [0.6, \"#e6f5d0\"], [0.7, \"#b8e186\"], [0.8, \"#7fbc41\"], [0.9, \"#4d9221\"], [1, \"#276419\"]], \"sequential\": [[0.0, \"#0d0887\"], [0.1111111111111111, \"#46039f\"], [0.2222222222222222, \"#7201a8\"], [0.3333333333333333, \"#9c179e\"], [0.4444444444444444, \"#bd3786\"], [0.5555555555555556, \"#d8576b\"], [0.6666666666666666, \"#ed7953\"], [0.7777777777777778, \"#fb9f3a\"], [0.8888888888888888, \"#fdca26\"], [1.0, \"#f0f921\"]], \"sequentialminus\": [[0.0, \"#0d0887\"], [0.1111111111111111, \"#46039f\"], [0.2222222222222222, \"#7201a8\"], [0.3333333333333333, \"#9c179e\"], [0.4444444444444444, \"#bd3786\"], [0.5555555555555556, \"#d8576b\"], [0.6666666666666666, \"#ed7953\"], [0.7777777777777778, \"#fb9f3a\"], [0.8888888888888888, \"#fdca26\"], [1.0, \"#f0f921\"]]}, \"colorway\": [\"#636efa\", \"#EF553B\", \"#00cc96\", \"#ab63fa\", \"#FFA15A\", \"#19d3f3\", \"#FF6692\", \"#B6E880\", \"#FF97FF\", \"#FECB52\"], \"font\": {\"color\": \"#2a3f5f\"}, \"geo\": {\"bgcolor\": \"white\", \"lakecolor\": \"white\", \"landcolor\": \"#E5ECF6\", \"showlakes\": true, \"showland\": true, \"subunitcolor\": \"white\"}, \"hoverlabel\": {\"align\": \"left\"}, \"hovermode\": \"closest\", \"mapbox\": {\"style\": \"light\"}, \"paper_bgcolor\": \"white\", \"plot_bgcolor\": \"#E5ECF6\", \"polar\": {\"angularaxis\": {\"gridcolor\": \"white\", \"linecolor\": \"white\", \"ticks\": \"\"}, \"bgcolor\": \"#E5ECF6\", \"radialaxis\": {\"gridcolor\": \"white\", \"linecolor\": \"white\", \"ticks\": \"\"}}, \"scene\": {\"xaxis\": {\"backgroundcolor\": \"#E5ECF6\", \"gridcolor\": \"white\", \"gridwidth\": 2, \"linecolor\": \"white\", \"showbackground\": true, \"ticks\": \"\", \"zerolinecolor\": \"white\"}, \"yaxis\": {\"backgroundcolor\": \"#E5ECF6\", \"gridcolor\": \"white\", \"gridwidth\": 2, \"linecolor\": \"white\", \"showbackground\": true, \"ticks\": \"\", \"zerolinecolor\": \"white\"}, \"zaxis\": {\"backgroundcolor\": \"#E5ECF6\", \"gridcolor\": \"white\", \"gridwidth\": 2, \"linecolor\": \"white\", \"showbackground\": true, \"ticks\": \"\", \"zerolinecolor\": \"white\"}}, \"shapedefaults\": {\"line\": {\"color\": \"#2a3f5f\"}}, \"ternary\": {\"aaxis\": {\"gridcolor\": \"white\", \"linecolor\": \"white\", \"ticks\": \"\"}, \"baxis\": {\"gridcolor\": \"white\", \"linecolor\": \"white\", \"ticks\": \"\"}, \"bgcolor\": \"#E5ECF6\", \"caxis\": {\"gridcolor\": \"white\", \"linecolor\": \"white\", \"ticks\": \"\"}}, \"title\": {\"x\": 0.05}, \"xaxis\": {\"automargin\": true, \"gridcolor\": \"white\", \"linecolor\": \"white\", \"ticks\": \"\", \"title\": {\"standoff\": 15}, \"zerolinecolor\": \"white\", \"zerolinewidth\": 2}, \"yaxis\": {\"automargin\": true, \"gridcolor\": \"white\", \"linecolor\": \"white\", \"ticks\": \"\", \"title\": {\"standoff\": 15}, \"zerolinecolor\": \"white\", \"zerolinewidth\": 2}}}, \"xaxis\": {\"anchor\": \"y\", \"domain\": [0.0, 1.0], \"title\": {\"text\": \"x\"}}, \"yaxis\": {\"anchor\": \"x\", \"domain\": [0.0, 1.0], \"title\": {\"text\": \"count\"}}},\n",
              "                        {\"responsive\": true}\n",
              "                    ).then(function(){\n",
              "                            \n",
              "var gd = document.getElementById('366aaa92-c810-4a93-9659-da96095703e8');\n",
              "var x = new MutationObserver(function (mutations, observer) {{\n",
              "        var display = window.getComputedStyle(gd).display;\n",
              "        if (!display || display === 'none') {{\n",
              "            console.log([gd, 'removed!']);\n",
              "            Plotly.purge(gd);\n",
              "            observer.disconnect();\n",
              "        }}\n",
              "}});\n",
              "\n",
              "// Listen for the removal of the full notebook cells\n",
              "var notebookContainer = gd.closest('#notebook-container');\n",
              "if (notebookContainer) {{\n",
              "    x.observe(notebookContainer, {childList: true});\n",
              "}}\n",
              "\n",
              "// Listen for the clearing of the current output cell\n",
              "var outputEl = gd.closest('.output');\n",
              "if (outputEl) {{\n",
              "    x.observe(outputEl, {childList: true});\n",
              "}}\n",
              "\n",
              "                        })\n",
              "                };\n",
              "                \n",
              "            </script>\n",
              "        </div>\n",
              "</body>\n",
              "</html>"
            ]
          },
          "metadata": {}
        }
      ],
      "source": [
        "nbins = N//10\n",
        "px.histogram(x=data, nbins=nbins)\n"
      ]
    },
    {
      "cell_type": "markdown",
      "metadata": {
        "id": "49GNvxAHRjD4"
      },
      "source": [
        "The sample mean is easy enough with `np.mean` :\n"
      ]
    },
    {
      "cell_type": "code",
      "execution_count": 16,
      "metadata": {
        "colab": {
          "base_uri": "https://localhost:8080/"
        },
        "id": "_Ni9Xu0tRDzH",
        "outputId": "9c637284-ad16-4c67-d21a-cb5a2fc9977f"
      },
      "outputs": [
        {
          "output_type": "execute_result",
          "data": {
            "text/plain": [
              "202.04714359258264"
            ]
          },
          "metadata": {},
          "execution_count": 16
        }
      ],
      "source": [
        "mu_hat = np.mean(data)\n",
        "mu_hat\n"
      ]
    },
    {
      "cell_type": "code",
      "execution_count": 17,
      "metadata": {
        "colab": {
          "base_uri": "https://localhost:8080/"
        },
        "id": "E9Ye6FDqRrqS",
        "outputId": "cfd65d25-e765-48fe-e514-31bc5fb24b46"
      },
      "outputs": [
        {
          "output_type": "execute_result",
          "data": {
            "text/plain": [
              "2216.8998518187054"
            ]
          },
          "metadata": {},
          "execution_count": 17
        }
      ],
      "source": [
        "np.var(data, ddof=1)\n"
      ]
    },
    {
      "cell_type": "markdown",
      "metadata": {
        "id": "WVZQIL3BTK1D"
      },
      "source": [
        "Of course we can do this by ourselves as well:\n"
      ]
    },
    {
      "cell_type": "markdown",
      "metadata": {
        "id": "AH1yvETERxjQ"
      },
      "source": [
        "Note that though with 200 samples the histogram is quite \"messy\", the sample mean $\\hat{\\mu}$ is close to the true mean $\\mu=200$.\n",
        "\n",
        "There is also a function `np.var` that calculates the sample variance, but we need to take care to provide the `ddof=1` argument to get the unbiased estimate (do `help(np.var)` to find out more).\n"
      ]
    },
    {
      "cell_type": "markdown",
      "metadata": {
        "id": "5ORKrchDHmHW"
      },
      "source": [
        "Here is the code for variance:\n"
      ]
    },
    {
      "cell_type": "code",
      "execution_count": 18,
      "metadata": {
        "colab": {
          "base_uri": "https://localhost:8080/"
        },
        "id": "FCc_aiKMTOEL",
        "outputId": "3dfb8519-b5e5-40ef-deff-8c246258b29e"
      },
      "outputs": [
        {
          "output_type": "execute_result",
          "data": {
            "text/plain": [
              "2216.8998518187054"
            ]
          },
          "metadata": {},
          "execution_count": 18
        }
      ],
      "source": [
        "var_hat = np.sum(np.square(data-mu_hat))/(N-1)\n",
        "var_hat\n"
      ]
    },
    {
      "cell_type": "markdown",
      "metadata": {
        "id": "xtuu2iPRTFOK"
      },
      "source": [
        "By taking the square root, we see that it matches our ground truth standard deviation $\\sigma$ quite well:\n"
      ]
    },
    {
      "cell_type": "code",
      "execution_count": 19,
      "metadata": {
        "id": "TexNM3djHmHW",
        "outputId": "157653e2-0297-4e85-dc9e-87abd7a45feb",
        "colab": {
          "base_uri": "https://localhost:8080/"
        }
      },
      "outputs": [
        {
          "output_type": "stream",
          "name": "stdout",
          "text": [
            "47.08396597376548\n"
          ]
        }
      ],
      "source": [
        "sigma_hat = np.sqrt(var_hat)\n",
        "print(sigma_hat)\n"
      ]
    },
    {
      "cell_type": "markdown",
      "metadata": {
        "id": "SvKw2nCLHmHW"
      },
      "source": [
        "### Comparison\n",
        "\n",
        "We can now plot our estimated Gaussian together with the data:\n"
      ]
    },
    {
      "cell_type": "code",
      "execution_count": 20,
      "metadata": {
        "colab": {
          "base_uri": "https://localhost:8080/",
          "height": 542
        },
        "id": "k6mP0n6iSJl5",
        "outputId": "2b72e18c-bcc7-4129-93ec-d81a8ab83551"
      },
      "outputs": [
        {
          "output_type": "display_data",
          "data": {
            "text/html": [
              "<html>\n",
              "<head><meta charset=\"utf-8\" /></head>\n",
              "<body>\n",
              "    <div>\n",
              "            <script src=\"https://cdnjs.cloudflare.com/ajax/libs/mathjax/2.7.5/MathJax.js?config=TeX-AMS-MML_SVG\"></script><script type=\"text/javascript\">if (window.MathJax) {MathJax.Hub.Config({SVG: {font: \"STIX-Web\"}});}</script>\n",
              "                <script type=\"text/javascript\">window.PlotlyConfig = {MathJaxConfig: 'local'};</script>\n",
              "        <script src=\"https://cdn.plot.ly/plotly-latest.min.js\"></script>    \n",
              "            <div id=\"702778f8-614f-417d-a7d5-83e391cc3d76\" class=\"plotly-graph-div\" style=\"height:525px; width:100%;\"></div>\n",
              "            <script type=\"text/javascript\">\n",
              "                \n",
              "                    window.PLOTLYENV=window.PLOTLYENV || {};\n",
              "                    \n",
              "                if (document.getElementById(\"702778f8-614f-417d-a7d5-83e391cc3d76\")) {\n",
              "                    Plotly.newPlot(\n",
              "                        '702778f8-614f-417d-a7d5-83e391cc3d76',\n",
              "                        [{\"alignmentgroup\": \"True\", \"bingroup\": \"x\", \"hoverlabel\": {\"namelength\": 0}, \"hovertemplate\": \"x=%{x}<br>count=%{y}\", \"legendgroup\": \"\", \"marker\": {\"color\": \"#636efa\"}, \"name\": \"\", \"nbinsx\": 20, \"offsetgroup\": \"\", \"orientation\": \"v\", \"showlegend\": false, \"type\": \"histogram\", \"x\": [167.81181673068477, 205.87756472300404, 138.7151515064558, 163.1056345233273, 163.72108751481977, 201.0606644993165, 266.1806098215135, 280.9261489847065, 271.2166619304594, 231.6145069073557, 178.2204922387784, 162.5815125889177, 218.3502426678578, 172.4836818244509, 223.38711869452453, 118.78474842721279, 229.6576714483216, 182.37145963007788, 185.88966705741458, 170.33062249160096, 219.84983676890693, 148.4714799843182, 183.58315932522387, 175.75351809290626, 109.92057237791802, 228.69202051782628, 211.11030359154074, 191.23045593494183, 132.7666839586554, 148.7945716391948, 174.5851689186839, 219.94060668667356, 220.7585762936707, 250.5662820921446, 240.68729408270326, 171.80143566068756, 206.99061796055958, 231.410602571626, 196.74307820774203, 210.67299516520686, 256.0631031626213, 244.06677795428345, 204.8481814968434, 197.56610641095193, 139.61878665859967, 247.43325077153838, 173.4003096925419, 157.36027854333744, 198.22061144648032, 201.34521574907473, 232.1585983966319, 170.79368632861838, 176.88668945552354, 243.28904833281757, 145.2153936426887, 117.47428609911316, 196.7585558906732, 175.12719815764623, 255.75012254911545, 247.21411081049908, 138.22435663340679, 182.8054900990863, 202.55652189736432, 208.45822588656512, 278.81427687387225, 182.2255776997441, 264.55132126304306, 138.78112677354207, 198.2898186253567, 206.44098362831986, 245.17059780684028, 189.17736857597725, 156.43355217256007, 205.83955757548074, 238.12838829027856, 270.11927280121415, 175.88696349451405, 150.56622702882817, 59.265258642400966, 176.05215142730574, 175.31986700100194, 263.1207410310487, 226.42127813096585, 152.32470184752296, 217.20357358313683, 203.36052033444727, 157.45883624118122, 158.83849742107904, 220.75642877955372, 188.72531233403345, 299.33358242860396, 232.1894043255545, 97.0986691084337, 255.34009817287455, 233.67484158686628, 166.29295882054404, 313.59506327691906, 209.3823474189939, 240.8059375789151, 142.10599537552014, 194.9484521196615, 335.0475197435415, 218.95317464280646, 191.08932297911758, 261.8476721673001, 211.11203326996417, 169.5659257902746, 190.31985146234064, 191.69180099062442, 217.5584613696973, 282.4174610408526, 208.27631810952207, 256.8147311291171, 201.5494365123913, 247.30904478988816, 157.23741763110573, 127.45298767872342, 191.722211062295, 123.02328606217935, 232.57630887884164, 185.1472229158667, 141.76515409718388, 128.73928629432262, 288.9289738240498, 117.28845890111096, 275.7402270078444, 166.7857098319746, 281.23300072786844, 202.99407429416726, 160.6681151250976, 242.2047933690736, 192.81840504787758, 233.6198586503264, 257.56089896510764, 159.60536439834004, 246.55528971767745, 266.5144129094634, 233.3791602515983, 185.35885732376664, 134.19789732071501, 277.07244877771086, 201.4294042828565, 174.08754113240855, 329.01934873139123, 192.13442246838613, 173.44460780512372, 191.2196650042694, 230.22973348911808, 185.62456392125634, 159.99722091276533, 148.05858670872334, 260.5871271724613, 206.64779191691989, 161.47485316792307, 152.95851706127993, 183.5789489275331, 223.3296026020493, 293.94467563547755, 192.35926185814742, 266.2870439003523, 281.8308328853029, 233.21562691978824, 235.54328111547244, 153.12873207251175, 198.7573955284467, 212.08212302684552, 264.60181167625757, 180.49296521352375, 90.7085577915951, 181.53732934334948, 208.02652481038814, 190.32699855870277, 126.31598806341856, 165.31984918054943, 214.3168966038183, 180.00259381399627, 202.41080291591126, 171.31294374873244, 156.76840346959384, 200.2714342654016, 300.1645041589767, 242.55838653728125, 261.5502219961518, 216.81255373396226, 210.78895726703556, 190.6278428927767, 244.32601654139734, 236.82491384464754, 230.01619270370298, 217.47560085049503, 109.55098298543417, 208.6351475900048, 187.6697830071184, 173.62316407430873, 232.97341773938433, 189.25600664556478, 155.26288822304156, 233.89950027828243, 228.27194065117664, 168.72333432793158], \"xaxis\": \"x\", \"yaxis\": \"y\"}, {\"type\": \"scatter\", \"x\": [0, 1, 2, 3, 4, 5, 6, 7, 8, 9, 10, 11, 12, 13, 14, 15, 16, 17, 18, 19, 20, 21, 22, 23, 24, 25, 26, 27, 28, 29, 30, 31, 32, 33, 34, 35, 36, 37, 38, 39, 40, 41, 42, 43, 44, 45, 46, 47, 48, 49, 50, 51, 52, 53, 54, 55, 56, 57, 58, 59, 60, 61, 62, 63, 64, 65, 66, 67, 68, 69, 70, 71, 72, 73, 74, 75, 76, 77, 78, 79, 80, 81, 82, 83, 84, 85, 86, 87, 88, 89, 90, 91, 92, 93, 94, 95, 96, 97, 98, 99, 100, 101, 102, 103, 104, 105, 106, 107, 108, 109, 110, 111, 112, 113, 114, 115, 116, 117, 118, 119, 120, 121, 122, 123, 124, 125, 126, 127, 128, 129, 130, 131, 132, 133, 134, 135, 136, 137, 138, 139, 140, 141, 142, 143, 144, 145, 146, 147, 148, 149, 150, 151, 152, 153, 154, 155, 156, 157, 158, 159, 160, 161, 162, 163, 164, 165, 166, 167, 168, 169, 170, 171, 172, 173, 174, 175, 176, 177, 178, 179, 180, 181, 182, 183, 184, 185, 186, 187, 188, 189, 190, 191, 192, 193, 194, 195, 196, 197, 198, 199, 200, 201, 202, 203, 204, 205, 206, 207, 208, 209, 210, 211, 212, 213, 214, 215, 216, 217, 218, 219, 220, 221, 222, 223, 224, 225, 226, 227, 228, 229, 230, 231, 232, 233, 234, 235, 236, 237, 238, 239, 240, 241, 242, 243, 244, 245, 246, 247, 248, 249, 250, 251, 252, 253, 254, 255, 256, 257, 258, 259, 260, 261, 262, 263, 264, 265, 266, 267, 268, 269, 270, 271, 272, 273, 274, 275, 276, 277, 278, 279, 280, 281, 282, 283, 284, 285, 286, 287, 288, 289, 290, 291, 292, 293, 294, 295, 296, 297, 298, 299, 300, 301, 302, 303, 304, 305, 306, 307, 308, 309, 310, 311, 312, 313, 314, 315, 316, 317, 318, 319, 320, 321, 322, 323, 324, 325, 326, 327, 328, 329, 330, 331, 332, 333, 334, 335, 336, 337, 338, 339, 340, 341, 342, 343, 344, 345, 346, 347, 348, 349], \"y\": [0.0033997301705882264, 0.0037232987142400806, 0.0040758238813838185, 0.004459714295232192, 0.0048775616013094205, 0.005332152811712001, 0.005826483347944329, 0.006363770810855274, 0.006947469506466105, 0.0075812857566614315, 0.008269194023802863, 0.009015453878312124, 0.009824627838146782, 0.010701600108847447, 0.011651596252461198, 0.012680203813131598, 0.013793393926479994, 0.014997543939075772, 0.016299461063294638, 0.017706407091680323, 0.019226124193548935, 0.02086686181499124, 0.022637404701629334, 0.02454710206145532, 0.026605897882813184, 0.028824362420067532, 0.031213724856725626, 0.03378590715272972, 0.03655355907930842, 0.03953009444115416, 0.04272972848177759, 0.046167516463660935, 0.049859393410293516, 0.05382221499230977, 0.05807379953476168, 0.06263297111703767, 0.06751960373108616, 0.07275466645740906, 0.078360269611767, 0.08435971180866841, 0.09077752788052339, 0.09763953758381201, 0.10497289501577128, 0.11280613865694013, 0.1211692419464338, 0.13009366428806188, 0.13961240237636763, 0.14976004172237, 0.16057280824926012, 0.1720886198185473, 0.18434713753720877, 0.1973898166862927, 0.2112599571011777, 0.22600275282335316, 0.24166534083318342, 0.2582968486626804, 0.27594844067690566, 0.2946733628022657, 0.31452698546972846, 0.33556684453090474, 0.3578526798950762, 0.38144647162565204, 0.406412473225269, 0.43281724182987125, 0.4607296650236771, 0.4902209839790339, 0.5213648126178294, 0.554237152484466, 0.5889164030144503, 0.6254833668774918, 0.6640212500697311, 0.704615656426358, 0.747354576223553, 0.7923283685374387, 0.8396297370276326, 0.8893536988141317, 0.9415975461187163, 0.996460800345829, 1.0540451582831758, 1.114454430108992, 1.1777944689012316, 1.2441730913538551, 1.3136999894169432, 1.3864866325906793, 1.4626461606182721, 1.5422932663397366, 1.625544068487114, 1.7125159742222091, 1.8033275312403088, 1.8980982692875852, 1.9969485309659936, 2.0999992917274573, 2.2073719689889733, 2.3191882203318936, 2.435569730782089, 2.556637989202841, 2.6825140538691943, 2.8133183073309103, 2.9491702007112086, 3.090187987629846, 3.2364884479819476, 3.388186601847927, 3.545395413855022, 3.708225488356983, 3.8767847558454536, 4.0511781510540965, 4.231507283264688, 4.417870099372707, 4.610360540318712, 4.809068191540087, 5.014077928146218, 5.225469555567774, 5.44331744647804, 5.667690174830346, 5.89865014790076, 6.136253237268886, 6.380548409711692, 6.631577359025518, 6.889374139829557, 7.153964804439883, 7.425367043936276, 7.703589834574585, 7.988633090724568, 8.280487325537333, 8.579133320566898, 8.884541805587338, 9.196673149859736, 9.515477066111963, 9.840892328498672, 10.172846505808852, 10.511255711183528, 10.856024369596659, 11.207045004337802, 11.564198043715775, 11.927351649177652, 12.296361566008025, 12.67107099773807, 13.051310505354028, 13.436897932348861, 13.827638356610398, 14.223324070083086, 14.623734587079591, 15.028636682052374, 15.437784457564387, 15.850919443122455, 16.267770725456607, 16.688055110744045, 17.11147731918778, 17.537730212267363, 17.96649505288288, 18.39744179851411, 18.830229427414118, 19.264506297751602, 19.699910539509002, 20.136070478834185, 20.572605094432827, 21.009124505477097, 21.445230490393694, 21.880517035782077, 22.314570914601386, 22.74697229265327, 23.17729536227751, 23.605109002069074, 24.029977461318772, 24.45146106777615, 24.869116957232794, 25.282499823327413, 25.691162685881125, 26.09465767598332, 26.492536835965037, 26.884352932318944, 27.26966027955295, 27.64801557289848, 28.018978727735128, 28.382113723540932, 28.736989450132228, 29.083180553919227, 29.420268281873525, 29.747841320881573, 30.06549663014435, 30.3728402642778, 30.669488184771666, 30.955067057475397, 31.229215033800216, 31.491582513354608, 31.741832885767796, 31.979643249501365, 32.20470510550295, 32.4167250236184, 32.61542527974873, 32.80054446181641, 32.971838042691104, 33.12907891831773, 33.2720579093895, 33.40058422501508, 33.51448588694124, 33.61361011301083, 33.69782365865934, 33.76701311538147, 33.821085165232006, 33.85996679056162, 33.88360543832749, 33.891969138461405, 33.885046575922104, 33.862847116204506, 33.82540078422531, 33.77275819665172, 33.70499044788661, 33.62218895006979, 33.52446522759932, 33.411950666819415, 33.284796221661324, 33.14317207616047, 32.987267264905704, 32.81728925260577, 32.633463474081644, 32.43603283611243, 32.22525718267538, 32.00141272522762, 31.764791439777582, 31.515700432587526, 31.25446127643499, 30.981409319439663, 30.696892968533124, 30.40127294971193, 30.094921547269205, 29.778221824246224, 29.451566826383523, 29.1153587718803, 28.77000822929169, 28.41593328590574, 28.053558708945523, 27.683315101937108, 27.305638058570917, 26.9209673163628, 26.529745912391732, 26.13241934335418, 25.729434732130354, 25.32124000300602, 24.90828306763454, 24.49101102375878, 24.06986936864076, 23.645301229069634, 23.21774660973585, 22.78764166167145, 22.355417972364105, 21.921501879056052, 21.4863138066389, 21.050267631451934, 20.61377007218556, 20.177220108983132, 19.741008431724595, 19.305516918363743, 18.87111814407913, 18.438174921885917, 18.007039875243827, 17.57805504308445, 17.151551517570525, 16.72784911479037, 16.307256078483245, 15.890068816786039, 15.476571671889058, 15.067036722388922, 14.661723618030047, 14.26087944643329, 13.864738631321233, 13.473522861664645, 13.08744105109394, 12.706689326843408, 12.331451047424544, 11.961896848158343, 11.598184713634852, 11.240460076111853, 10.888855938813363, 10.543493023042512, 10.204479937982702, 9.871913372025382, 9.545878304432486, 9.226448236116521, 8.913685438301373, 8.607641217811825, 8.308356197730012, 8.015860612151615, 7.730174613774296, 7.451308593054698, 7.1792635076788125, 6.91403122110285, 6.655594848938365, 6.403929111975403, 6.159000694661329, 5.920768607879883, 5.689184554905232, 5.464193299438678, 5.245733034671271, 5.033735752353481, 4.828127610893131, 4.628829301544694, 4.4357564117966355, 4.248819785108429, 4.0679258761948915, 3.892977101102732, 3.723872181371686, 3.560506481621076, 3.4027723399509733, 3.2505593905958223, 3.103754878316763, 2.9622439640670715, 2.825910021512729, 2.694634924037191, 2.5682993219055237, 2.4467829093083484, 2.3299646810501025, 2.217723178689074, 2.1099367259781867, 2.0064836534956796, 1.9072425123933863, 1.81209227722739, 1.7209125378710788, 1.6335836805442747, 1.549987058023904, 1.4700051491316855, 1.393521707622451, 1.3204219006230318, 1.2505924367960237, 1.183921684425342, 1.1202997796411107, 1.0596187250203057, 1.001772478816548, 0.9466570350876901, 0.8941704950032577, 0.8442131296255765, 0.7966874344684491, 0.751498176145722, 0.7085524314289369, 0.6677596190386684, 0.6290315244980638, 0.5922823183796839, 0.5574285682779946, 0.5243892448398867, 0.49308572218445323, 0.46344177304102674, 0.4353835589312173, 0.4088396157164944, 0.38374083482778826, 0.3600204404876871, 0.33761396322923204, 0.3164592100080143, 0.29649623119644253, 0.2776672847406589, 0.2599167977517395]}],\n",
              "                        {\"barmode\": \"relative\", \"legend\": {\"tracegroupgap\": 0}, \"margin\": {\"t\": 60}, \"template\": {\"data\": {\"bar\": [{\"error_x\": {\"color\": \"#2a3f5f\"}, \"error_y\": {\"color\": \"#2a3f5f\"}, \"marker\": {\"line\": {\"color\": \"#E5ECF6\", \"width\": 0.5}}, \"type\": \"bar\"}], \"barpolar\": [{\"marker\": {\"line\": {\"color\": \"#E5ECF6\", \"width\": 0.5}}, \"type\": \"barpolar\"}], \"carpet\": [{\"aaxis\": {\"endlinecolor\": \"#2a3f5f\", \"gridcolor\": \"white\", \"linecolor\": \"white\", \"minorgridcolor\": \"white\", \"startlinecolor\": \"#2a3f5f\"}, \"baxis\": {\"endlinecolor\": \"#2a3f5f\", \"gridcolor\": \"white\", \"linecolor\": \"white\", \"minorgridcolor\": \"white\", \"startlinecolor\": \"#2a3f5f\"}, \"type\": \"carpet\"}], \"choropleth\": [{\"colorbar\": {\"outlinewidth\": 0, \"ticks\": \"\"}, \"type\": \"choropleth\"}], \"contour\": [{\"colorbar\": {\"outlinewidth\": 0, \"ticks\": \"\"}, \"colorscale\": [[0.0, \"#0d0887\"], [0.1111111111111111, \"#46039f\"], [0.2222222222222222, \"#7201a8\"], [0.3333333333333333, \"#9c179e\"], [0.4444444444444444, \"#bd3786\"], [0.5555555555555556, \"#d8576b\"], [0.6666666666666666, \"#ed7953\"], [0.7777777777777778, \"#fb9f3a\"], [0.8888888888888888, \"#fdca26\"], [1.0, \"#f0f921\"]], \"type\": \"contour\"}], \"contourcarpet\": [{\"colorbar\": {\"outlinewidth\": 0, \"ticks\": \"\"}, \"type\": \"contourcarpet\"}], \"heatmap\": [{\"colorbar\": {\"outlinewidth\": 0, \"ticks\": \"\"}, \"colorscale\": [[0.0, \"#0d0887\"], [0.1111111111111111, \"#46039f\"], [0.2222222222222222, \"#7201a8\"], [0.3333333333333333, \"#9c179e\"], [0.4444444444444444, \"#bd3786\"], [0.5555555555555556, \"#d8576b\"], [0.6666666666666666, \"#ed7953\"], [0.7777777777777778, \"#fb9f3a\"], [0.8888888888888888, \"#fdca26\"], [1.0, \"#f0f921\"]], \"type\": \"heatmap\"}], \"heatmapgl\": [{\"colorbar\": {\"outlinewidth\": 0, \"ticks\": \"\"}, \"colorscale\": [[0.0, \"#0d0887\"], [0.1111111111111111, \"#46039f\"], [0.2222222222222222, \"#7201a8\"], [0.3333333333333333, \"#9c179e\"], [0.4444444444444444, \"#bd3786\"], [0.5555555555555556, \"#d8576b\"], [0.6666666666666666, \"#ed7953\"], [0.7777777777777778, \"#fb9f3a\"], [0.8888888888888888, \"#fdca26\"], [1.0, \"#f0f921\"]], \"type\": \"heatmapgl\"}], \"histogram\": [{\"marker\": {\"colorbar\": {\"outlinewidth\": 0, \"ticks\": \"\"}}, \"type\": \"histogram\"}], \"histogram2d\": [{\"colorbar\": {\"outlinewidth\": 0, \"ticks\": \"\"}, \"colorscale\": [[0.0, \"#0d0887\"], [0.1111111111111111, \"#46039f\"], [0.2222222222222222, \"#7201a8\"], [0.3333333333333333, \"#9c179e\"], [0.4444444444444444, \"#bd3786\"], [0.5555555555555556, \"#d8576b\"], [0.6666666666666666, \"#ed7953\"], [0.7777777777777778, \"#fb9f3a\"], [0.8888888888888888, \"#fdca26\"], [1.0, \"#f0f921\"]], \"type\": \"histogram2d\"}], \"histogram2dcontour\": [{\"colorbar\": {\"outlinewidth\": 0, \"ticks\": \"\"}, \"colorscale\": [[0.0, \"#0d0887\"], [0.1111111111111111, \"#46039f\"], [0.2222222222222222, \"#7201a8\"], [0.3333333333333333, \"#9c179e\"], [0.4444444444444444, \"#bd3786\"], [0.5555555555555556, \"#d8576b\"], [0.6666666666666666, \"#ed7953\"], [0.7777777777777778, \"#fb9f3a\"], [0.8888888888888888, \"#fdca26\"], [1.0, \"#f0f921\"]], \"type\": \"histogram2dcontour\"}], \"mesh3d\": [{\"colorbar\": {\"outlinewidth\": 0, \"ticks\": \"\"}, \"type\": \"mesh3d\"}], \"parcoords\": [{\"line\": {\"colorbar\": {\"outlinewidth\": 0, \"ticks\": \"\"}}, \"type\": \"parcoords\"}], \"pie\": [{\"automargin\": true, \"type\": \"pie\"}], \"scatter\": [{\"marker\": {\"colorbar\": {\"outlinewidth\": 0, \"ticks\": \"\"}}, \"type\": \"scatter\"}], \"scatter3d\": [{\"line\": {\"colorbar\": {\"outlinewidth\": 0, \"ticks\": \"\"}}, \"marker\": {\"colorbar\": {\"outlinewidth\": 0, \"ticks\": \"\"}}, \"type\": \"scatter3d\"}], \"scattercarpet\": [{\"marker\": {\"colorbar\": {\"outlinewidth\": 0, \"ticks\": \"\"}}, \"type\": \"scattercarpet\"}], \"scattergeo\": [{\"marker\": {\"colorbar\": {\"outlinewidth\": 0, \"ticks\": \"\"}}, \"type\": \"scattergeo\"}], \"scattergl\": [{\"marker\": {\"colorbar\": {\"outlinewidth\": 0, \"ticks\": \"\"}}, \"type\": \"scattergl\"}], \"scattermapbox\": [{\"marker\": {\"colorbar\": {\"outlinewidth\": 0, \"ticks\": \"\"}}, \"type\": \"scattermapbox\"}], \"scatterpolar\": [{\"marker\": {\"colorbar\": {\"outlinewidth\": 0, \"ticks\": \"\"}}, \"type\": \"scatterpolar\"}], \"scatterpolargl\": [{\"marker\": {\"colorbar\": {\"outlinewidth\": 0, \"ticks\": \"\"}}, \"type\": \"scatterpolargl\"}], \"scatterternary\": [{\"marker\": {\"colorbar\": {\"outlinewidth\": 0, \"ticks\": \"\"}}, \"type\": \"scatterternary\"}], \"surface\": [{\"colorbar\": {\"outlinewidth\": 0, \"ticks\": \"\"}, \"colorscale\": [[0.0, \"#0d0887\"], [0.1111111111111111, \"#46039f\"], [0.2222222222222222, \"#7201a8\"], [0.3333333333333333, \"#9c179e\"], [0.4444444444444444, \"#bd3786\"], [0.5555555555555556, \"#d8576b\"], [0.6666666666666666, \"#ed7953\"], [0.7777777777777778, \"#fb9f3a\"], [0.8888888888888888, \"#fdca26\"], [1.0, \"#f0f921\"]], \"type\": \"surface\"}], \"table\": [{\"cells\": {\"fill\": {\"color\": \"#EBF0F8\"}, \"line\": {\"color\": \"white\"}}, \"header\": {\"fill\": {\"color\": \"#C8D4E3\"}, \"line\": {\"color\": \"white\"}}, \"type\": \"table\"}]}, \"layout\": {\"annotationdefaults\": {\"arrowcolor\": \"#2a3f5f\", \"arrowhead\": 0, \"arrowwidth\": 1}, \"coloraxis\": {\"colorbar\": {\"outlinewidth\": 0, \"ticks\": \"\"}}, \"colorscale\": {\"diverging\": [[0, \"#8e0152\"], [0.1, \"#c51b7d\"], [0.2, \"#de77ae\"], [0.3, \"#f1b6da\"], [0.4, \"#fde0ef\"], [0.5, \"#f7f7f7\"], [0.6, \"#e6f5d0\"], [0.7, \"#b8e186\"], [0.8, \"#7fbc41\"], [0.9, \"#4d9221\"], [1, \"#276419\"]], \"sequential\": [[0.0, \"#0d0887\"], [0.1111111111111111, \"#46039f\"], [0.2222222222222222, \"#7201a8\"], [0.3333333333333333, \"#9c179e\"], [0.4444444444444444, \"#bd3786\"], [0.5555555555555556, \"#d8576b\"], [0.6666666666666666, \"#ed7953\"], [0.7777777777777778, \"#fb9f3a\"], [0.8888888888888888, \"#fdca26\"], [1.0, \"#f0f921\"]], \"sequentialminus\": [[0.0, \"#0d0887\"], [0.1111111111111111, \"#46039f\"], [0.2222222222222222, \"#7201a8\"], [0.3333333333333333, \"#9c179e\"], [0.4444444444444444, \"#bd3786\"], [0.5555555555555556, \"#d8576b\"], [0.6666666666666666, \"#ed7953\"], [0.7777777777777778, \"#fb9f3a\"], [0.8888888888888888, \"#fdca26\"], [1.0, \"#f0f921\"]]}, \"colorway\": [\"#636efa\", \"#EF553B\", \"#00cc96\", \"#ab63fa\", \"#FFA15A\", \"#19d3f3\", \"#FF6692\", \"#B6E880\", \"#FF97FF\", \"#FECB52\"], \"font\": {\"color\": \"#2a3f5f\"}, \"geo\": {\"bgcolor\": \"white\", \"lakecolor\": \"white\", \"landcolor\": \"#E5ECF6\", \"showlakes\": true, \"showland\": true, \"subunitcolor\": \"white\"}, \"hoverlabel\": {\"align\": \"left\"}, \"hovermode\": \"closest\", \"mapbox\": {\"style\": \"light\"}, \"paper_bgcolor\": \"white\", \"plot_bgcolor\": \"#E5ECF6\", \"polar\": {\"angularaxis\": {\"gridcolor\": \"white\", \"linecolor\": \"white\", \"ticks\": \"\"}, \"bgcolor\": \"#E5ECF6\", \"radialaxis\": {\"gridcolor\": \"white\", \"linecolor\": \"white\", \"ticks\": \"\"}}, \"scene\": {\"xaxis\": {\"backgroundcolor\": \"#E5ECF6\", \"gridcolor\": \"white\", \"gridwidth\": 2, \"linecolor\": \"white\", \"showbackground\": true, \"ticks\": \"\", \"zerolinecolor\": \"white\"}, \"yaxis\": {\"backgroundcolor\": \"#E5ECF6\", \"gridcolor\": \"white\", \"gridwidth\": 2, \"linecolor\": \"white\", \"showbackground\": true, \"ticks\": \"\", \"zerolinecolor\": \"white\"}, \"zaxis\": {\"backgroundcolor\": \"#E5ECF6\", \"gridcolor\": \"white\", \"gridwidth\": 2, \"linecolor\": \"white\", \"showbackground\": true, \"ticks\": \"\", \"zerolinecolor\": \"white\"}}, \"shapedefaults\": {\"line\": {\"color\": \"#2a3f5f\"}}, \"ternary\": {\"aaxis\": {\"gridcolor\": \"white\", \"linecolor\": \"white\", \"ticks\": \"\"}, \"baxis\": {\"gridcolor\": \"white\", \"linecolor\": \"white\", \"ticks\": \"\"}, \"bgcolor\": \"#E5ECF6\", \"caxis\": {\"gridcolor\": \"white\", \"linecolor\": \"white\", \"ticks\": \"\"}}, \"title\": {\"x\": 0.05}, \"xaxis\": {\"automargin\": true, \"gridcolor\": \"white\", \"linecolor\": \"white\", \"ticks\": \"\", \"title\": {\"standoff\": 15}, \"zerolinecolor\": \"white\", \"zerolinewidth\": 2}, \"yaxis\": {\"automargin\": true, \"gridcolor\": \"white\", \"linecolor\": \"white\", \"ticks\": \"\", \"title\": {\"standoff\": 15}, \"zerolinecolor\": \"white\", \"zerolinewidth\": 2}}}, \"xaxis\": {\"anchor\": \"y\", \"domain\": [0.0, 1.0], \"title\": {\"text\": \"x\"}}, \"yaxis\": {\"anchor\": \"x\", \"domain\": [0.0, 1.0], \"title\": {\"text\": \"count\"}}},\n",
              "                        {\"responsive\": true}\n",
              "                    ).then(function(){\n",
              "                            \n",
              "var gd = document.getElementById('702778f8-614f-417d-a7d5-83e391cc3d76');\n",
              "var x = new MutationObserver(function (mutations, observer) {{\n",
              "        var display = window.getComputedStyle(gd).display;\n",
              "        if (!display || display === 'none') {{\n",
              "            console.log([gd, 'removed!']);\n",
              "            Plotly.purge(gd);\n",
              "            observer.disconnect();\n",
              "        }}\n",
              "}});\n",
              "\n",
              "// Listen for the removal of the full notebook cells\n",
              "var notebookContainer = gd.closest('#notebook-container');\n",
              "if (notebookContainer) {{\n",
              "    x.observe(notebookContainer, {childList: true});\n",
              "}}\n",
              "\n",
              "// Listen for the clearing of the current output cell\n",
              "var outputEl = gd.closest('.output');\n",
              "if (outputEl) {{\n",
              "    x.observe(outputEl, {childList: true});\n",
              "}}\n",
              "\n",
              "                        })\n",
              "                };\n",
              "                \n",
              "            </script>\n",
              "        </div>\n",
              "</body>\n",
              "</html>"
            ]
          },
          "metadata": {}
        }
      ],
      "source": [
        "fig = px.histogram(x=data, nbins=nbins)\n",
        "X = np.arange(0, 350)\n",
        "K = N*(400/nbins)/np.sqrt(2*np.pi*var_hat)  # expected height of histogram...\n",
        "fig.add_trace(go.Scatter(x=X, y=K * np.exp(-0.5*np.square(X-mu_hat)/var_hat)))\n",
        "fig\n"
      ]
    },
    {
      "cell_type": "markdown",
      "source": [
        "## Summary\n",
        "\n",
        "We saw above that learning conditional probability tables accounts amounts to counting the occurrence of certain events. In the case of sensor models, it is really about the co-occurrence of an event: how often do we see a particular sensor reading in a particular state? Finally if the sensor is continuous, we have to posit a parametric model, in this case we use the Gaussian, and use techniques from statistics to estimate its parameters. For a Gaussian, we need to only estimate its mean $\\mu$ and its a variance $\\sigma^2$, and weused techniques from statistics to estimate these.\n",
        "\n",
        "In the case of discrete sensors we also looked at a very simple form of smoothing to cope with the absence of certain counts, which is common for rare events. In fact, this amounts to introducing a *hyperprior* on the parameters to be estimated - in this case the numbers of a conditional probability table. Hyperpriors are also available for estimating parameters of a Gaussian, but that is beyond the scope of this section.\n",
        "\n",
        "You might think it is a bit of a stretch to call these procedures \"learning\". And indeed, they are simple parameter estimation problems as encountered in a statistics 101 class. However, although we will look at much more sophisticated learning approaches, even these simple algorithms *learn* about the world from data. Based on the sensor models, a robot will change how it acts in the world. Together with a value system, supplied in the form of a cost matrix by its user, the robot will make more optimal decisions by observing how the environments behaves."
      ],
      "metadata": {
        "id": "TidGLofzJb2C"
      }
    },
    {
      "cell_type": "code",
      "source": [
        ""
      ],
      "metadata": {
        "id": "-A9FTkdaLEpo"
      },
      "execution_count": null,
      "outputs": []
    }
  ],
  "metadata": {
    "colab": {
      "collapsed_sections": [],
      "name": "S16_sorter_learning.ipynb",
      "provenance": [],
      "toc_visible": true,
      "include_colab_link": true
    },
    "interpreter": {
      "hash": "c6e4e9f98eb68ad3b7c296f83d20e6de614cb42e90992a65aa266555a3137d0d"
    },
    "kernelspec": {
      "display_name": "Python 3 (ipykernel)",
      "language": "python",
      "name": "python3"
    },
    "language_info": {
      "codemirror_mode": {
        "name": "ipython",
        "version": 3
      },
      "file_extension": ".py",
      "mimetype": "text/x-python",
      "name": "python",
      "nbconvert_exporter": "python",
      "pygments_lexer": "ipython3",
      "version": "3.8.12"
    },
    "latex_metadata": {
      "affiliation": "Georgia Institute of Technology",
      "author": "Frank Dellaert and Seth Hutchinson",
      "title": "Introduction to Robotics"
    }
  },
  "nbformat": 4,
  "nbformat_minor": 0
}