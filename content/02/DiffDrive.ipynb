{
  "nbformat": 4,
  "nbformat_minor": 0,
  "metadata": {
    "colab": {
      "name": "01-DuckieBot1.ipynb",
      "provenance": [],
      "include_colab_link": true
    },
    "kernelspec": {
      "name": "python3",
      "display_name": "Python 3"
    }
  },
  "cells": [
    {
      "cell_type": "markdown",
      "metadata": {
        "colab_type": "text",
        "id": "dhzCZ0I5GY3q"
      },
      "source": [
        "# DuckieBot I\n",
        "* Robot: DuckieBot\n",
        "* Sensor: wheel encoder\n",
        "* Think: localize\n",
        "* Act: DD\n",
        "* Topics needed: DD kinematics, sensor fusion, localization (MCL), factor graphs & KF\n",
        "* Factor graph concepts: Kalman filter\n"
      ]
    },
    {
      "cell_type": "markdown",
      "metadata": {
        "colab_type": "text",
        "id": "4qUYcGjLGTaQ"
      },
      "source": [
        "## Differential Drive kinematics\n",
        "In the [kinematics](Kinematics) section."
      ]
    },
    {
      "cell_type": "markdown",
      "metadata": {
        "colab_type": "text",
        "id": "K5BtAxD9G2Au"
      },
      "source": [
        "## Sensor Fusion "
      ]
    },
    {
      "cell_type": "markdown",
      "metadata": {
        "colab_type": "text",
        "id": "Ur-GxCmIHYBF"
      },
      "source": [
        "## Factor Graphs"
      ]
    },
    {
      "cell_type": "markdown",
      "metadata": {
        "colab_type": "text",
        "id": "cMGG4c19HDSS"
      },
      "source": [
        "## Localization"
      ]
    },
    {
      "cell_type": "markdown",
      "metadata": {
        "colab_type": "text",
        "id": "Cve8ELMsHPB5"
      },
      "source": [
        "## The Kalman Filter"
      ]
    },
    {
      "cell_type": "markdown",
      "metadata": {
        "colab_type": "text",
        "id": "tP3nTDmWHGqR"
      },
      "source": [
        "## Monte Carlo Localization"
      ]
    }
  ]
}