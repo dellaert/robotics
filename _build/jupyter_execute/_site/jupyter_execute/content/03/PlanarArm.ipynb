{
 "cells": [
  {
   "cell_type": "markdown",
   "metadata": {
    "colab_type": "text",
    "id": "dhzCZ0I5GY3q"
   },
   "source": [
    "# Planar Arms\n",
    "* Robot: Planar arms\n",
    "* Sensor: joint encoders\n",
    "* Think: motion planning\n",
    "* Act: control joint angles \n",
    "* Topics needed: manipulator kinematics, control, motion planning, optimal control and trajectory optimization, RRT\n",
    "* Factor graph concepts: smoothing w GTSAM, between factors, goal factor, obstacle factors (after RRT) $n_s$ is the sample, $n_{new}$ is the new node, etc.\n"
   ]
  },
  {
   "cell_type": "markdown",
   "metadata": {
    "colab_type": "text",
    "id": "4qUYcGjLGTaQ"
   },
   "source": [
    "## Manipulator Kinematics"
   ]
  },
  {
   "cell_type": "markdown",
   "metadata": {
    "colab_type": "text",
    "id": "K5BtAxD9G2Au"
   },
   "source": [
    "## Control "
   ]
  },
  {
   "cell_type": "markdown",
   "metadata": {
    "colab_type": "text",
    "id": "yY0_0M00IXYt"
   },
   "source": [
    "## Motion Planner"
   ]
  },
  {
   "cell_type": "markdown",
   "metadata": {
    "colab_type": "text",
    "id": "5SjqkwjRIUA4"
   },
   "source": [
    "## Optimal Control"
   ]
  },
  {
   "cell_type": "markdown",
   "metadata": {
    "colab_type": "text",
    "id": "8Rto-y6hjuI2"
   },
   "source": [
    "## Trajectory Optimization"
   ]
  },
  {
   "cell_type": "markdown",
   "metadata": {
    "colab_type": "text",
    "id": "H6m1_DP9jwlP"
   },
   "source": [
    "## RRTs"
   ]
  }
 ],
 "metadata": {
  "colab": {
   "name": "03-PlanarArm.ipynb",
   "provenance": []
  },
  "kernelspec": {
   "display_name": "Python 3",
   "name": "python3"
  }
 },
 "nbformat": 4,
 "nbformat_minor": 0
}