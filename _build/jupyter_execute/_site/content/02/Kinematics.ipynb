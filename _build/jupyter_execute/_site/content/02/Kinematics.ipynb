{
 "cells": [
  {
   "cell_type": "markdown",
   "metadata": {
    "colab_type": "text",
    "id": "4qUYcGjLGTaQ"
   },
   "source": [
    "## DD kinematics"
   ]
  },
  {
   "cell_type": "markdown",
   "metadata": {
    "colab_type": "text",
    "id": "nJHe8-v9A9wF"
   },
   "source": [
    "Let's define wheel speeds $\\varphi_L$ and $\\varphi_R$."
   ]
  }
 ],
 "metadata": {
  "colab": {
   "include_colab_link": true,
   "name": "01-DuckieBot1.ipynb",
   "provenance": []
  },
  "kernelspec": {
   "display_name": "Python 3",
   "name": "python3"
  }
 },
 "nbformat": 4,
 "nbformat_minor": 0
}