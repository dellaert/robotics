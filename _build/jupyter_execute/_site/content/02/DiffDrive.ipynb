{
 "cells": [
  {
   "cell_type": "markdown",
   "metadata": {
    "colab_type": "text",
    "id": "dhzCZ0I5GY3q"
   },
   "source": [
    "# A differential drive robot\n",
    "* Robot: DuckieBot\n",
    "* Sensor: wheel encoder\n",
    "* Think: localize\n",
    "* Act: DD\n",
    "* Topics needed: DD kinematics, sensor fusion, localization (MCL), factor graphs & KF\n",
    "* Factor graph concepts: Kalman filter\n"
   ]
  },
  {
   "cell_type": "markdown",
   "metadata": {
    "colab_type": "text",
    "id": "4qUYcGjLGTaQ"
   },
   "source": [
    "## Differential Drive kinematics\n",
    "In the [kinematics](Kinematics) section."
   ]
  },
  {
   "cell_type": "markdown",
   "metadata": {
    "colab_type": "text",
    "id": "K5BtAxD9G2Au"
   },
   "source": [
    "## Sensor Fusion "
   ]
  },
  {
   "cell_type": "markdown",
   "metadata": {
    "colab_type": "text",
    "id": "Ur-GxCmIHYBF"
   },
   "source": [
    "## Factor Graphs"
   ]
  },
  {
   "cell_type": "markdown",
   "metadata": {
    "colab_type": "text",
    "id": "cMGG4c19HDSS"
   },
   "source": [
    "## Localization"
   ]
  },
  {
   "cell_type": "markdown",
   "metadata": {
    "colab_type": "text",
    "id": "Cve8ELMsHPB5"
   },
   "source": [
    "## The Kalman Filter"
   ]
  },
  {
   "cell_type": "markdown",
   "metadata": {
    "colab_type": "text",
    "id": "tP3nTDmWHGqR"
   },
   "source": [
    "## Monte Carlo Localization"
   ]
  }
 ],
 "metadata": {
  "colab": {
   "name": "01-DuckieBot1.ipynb",
   "provenance": []
  },
  "kernelspec": {
   "display_name": "Python 3",
   "name": "python3"
  }
 },
 "nbformat": 4,
 "nbformat_minor": 0
}