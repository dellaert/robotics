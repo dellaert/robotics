{
 "cells": [
  {
   "cell_type": "markdown",
   "metadata": {
    "colab_type": "text",
    "id": "dhzCZ0I5GY3q"
   },
   "source": [
    "# DuckieBot V\n",
    "* Robot: DuckieBot\n",
    "* Sensor: camera\n",
    "* Think: localize\n",
    "* Act: DD\n",
    "* Topics needed: Machine learning (maybe deep), CNNs\n",
    "* Factor graph concepts: \n"
   ]
  },
  {
   "cell_type": "markdown",
   "metadata": {
    "colab_type": "text",
    "id": "4qUYcGjLGTaQ"
   },
   "source": [
    "## Machine Learning"
   ]
  },
  {
   "cell_type": "markdown",
   "metadata": {
    "colab_type": "text",
    "id": "K5BtAxD9G2Au"
   },
   "source": [
    "## Deep Learning, CNN"
   ]
  },
  {
   "cell_type": "markdown",
   "metadata": {
    "colab_type": "text",
    "id": "yY0_0M00IXYt"
   },
   "source": [
    "## Objec"
   ]
  },
  {
   "cell_type": "markdown",
   "metadata": {
    "colab_type": "text",
    "id": "5SjqkwjRIUA4"
   },
   "source": [
    "## Policy Gradient"
   ]
  }
 ],
 "metadata": {
  "colab": {
   "include_colab_link": true,
   "name": "07-DuckieBot5.ipynb",
   "provenance": []
  },
  "kernelspec": {
   "display_name": "Python 3",
   "name": "python3"
  }
 },
 "nbformat": 4,
 "nbformat_minor": 0
}