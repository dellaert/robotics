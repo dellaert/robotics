{
 "cells": [
  {
   "cell_type": "markdown",
   "metadata": {
    "colab_type": "text",
    "id": "dhzCZ0I5GY3q"
   },
   "source": [
    "# DuckieBot III\n",
    "* Robot: DuckieBot\n",
    "* Sensor: camera\n",
    "* Think: localize\n",
    "* Act: DD\n",
    "* Topics needed: control & visual servoing, vision, visual odometry\n",
    "* Factor graph concepts: Jacobians of visual observations, VO\n"
   ]
  },
  {
   "cell_type": "markdown",
   "metadata": {
    "colab_type": "text",
    "id": "4qUYcGjLGTaQ"
   },
   "source": [
    "## Camera Geometry"
   ]
  },
  {
   "cell_type": "markdown",
   "metadata": {
    "colab_type": "text",
    "id": "K5BtAxD9G2Au"
   },
   "source": [
    "## Visual Servoing and Visual Odometry"
   ]
  },
  {
   "cell_type": "markdown",
   "metadata": {
    "colab_type": "text",
    "id": "yY0_0M00IXYt"
   },
   "source": [
    "## Jacobians of Visual Observations"
   ]
  },
  {
   "cell_type": "markdown",
   "metadata": {
    "colab_type": "text",
    "id": "5SjqkwjRIUA4"
   },
   "source": [
    "## Con"
   ]
  }
 ],
 "metadata": {
  "colab": {
   "collapsed_sections": [],
   "include_colab_link": true,
   "name": "04-DuckieBot3.ipynb",
   "provenance": []
  },
  "kernelspec": {
   "display_name": "Python 3",
   "name": "python3"
  }
 },
 "nbformat": 4,
 "nbformat_minor": 0
}