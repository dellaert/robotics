{
 "cells": [
  {
   "cell_type": "markdown",
   "metadata": {
    "colab_type": "text",
    "id": "4qUYcGjLGTaQ"
   },
   "source": [
    "## Planning"
   ]
  },
  {
   "cell_type": "markdown",
   "metadata": {
    "colab_type": "text",
    "id": "nJHe8-v9A9wF"
   },
   "source": [
    "An outline:\n",
    "\n",
    "*   States and actions in a discretized 2D world\n",
    "*   Naive policies\n",
    "*   Optimal policies and Dijkstra\n",
    "*   Optimal trajectories and Graph Search\n",
    "*   Finite horizon planning\n",
    "\n"
   ]
  },
  {
   "cell_type": "markdown",
   "metadata": {},
   "source": [
    "\n",
    "```{toctree}\n",
    ":hidden:\n",
    ":titlesonly:\n",
    "\n",
    "\n",
    "Agents\n",
    "1-Bayes-nets\n",
    "```\n"
   ]
  }
 ],
 "metadata": {
  "colab": {
   "name": "01-DuckieBot1.ipynb",
   "provenance": []
  },
  "kernelspec": {
   "display_name": "Python 3",
   "name": "python3"
  }
 },
 "nbformat": 4,
 "nbformat_minor": 0
}