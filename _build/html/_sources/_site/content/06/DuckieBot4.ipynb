{
  "nbformat": 4,
  "nbformat_minor": 0,
  "metadata": {
    "colab": {
      "name": "06-DuckieBot4.ipynb",
      "provenance": [],
      "include_colab_link": true
    },
    "kernelspec": {
      "name": "python3",
      "display_name": "Python 3"
    }
  },
  "cells": [
    {
      "cell_type": "markdown",
      "metadata": {
        "colab_type": "text",
        "id": "dhzCZ0I5GY3q"
      },
      "source": [
        "# DuckieBot IV\n",
        "* Robot: DuckieBot\n",
        "* Sensor: camera\n",
        "* Think: mapping\n",
        "* Act: DD\n",
        "* Topics needed: sparse mapping, sparse linear algebra\n",
        "* Factor graph concepts: bundle adjustment/SAM with landmarks\n"
      ]
    },
    {
      "cell_type": "markdown",
      "metadata": {
        "colab_type": "text",
        "id": "4qUYcGjLGTaQ"
      },
      "source": [
        "## Sparse Linear Algebra"
      ]
    },
    {
      "cell_type": "markdown",
      "metadata": {
        "colab_type": "text",
        "id": "K5BtAxD9G2Au"
      },
      "source": [
        "## Sparse Mapping"
      ]
    },
    {
      "cell_type": "markdown",
      "metadata": {
        "colab_type": "text",
        "id": "yY0_0M00IXYt"
      },
      "source": [
        "## Bundle Adjustment"
      ]
    },
    {
      "cell_type": "markdown",
      "metadata": {
        "colab_type": "text",
        "id": "5SjqkwjRIUA4"
      },
      "source": [
        "## Policy Gradient"
      ]
    }
  ]
}