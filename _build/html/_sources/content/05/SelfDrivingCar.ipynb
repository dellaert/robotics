{
  "nbformat": 4,
  "nbformat_minor": 0,
  "metadata": {
    "colab": {
      "name": "05-SelfDrivingCar.ipynb",
      "provenance": [],
      "include_colab_link": true
    },
    "kernelspec": {
      "name": "python3",
      "display_name": "Python 3"
    }
  },
  "cells": [
    {
      "cell_type": "markdown",
      "metadata": {
        "colab_type": "text",
        "id": "dhzCZ0I5GY3q"
      },
      "source": [
        "# Self Driving Car\n",
        "* Robot: Self-driving Car\n",
        "* Sensor: LIDAR\n",
        "* Think: plan routes, mapping\n",
        "* Act: continuous, acceleration, steering wheel\n",
        "* Topics needed: car kinematics (Ackerman steering), ICP, dense mapping, A*\n",
        "* Factor graph concepts: poseSLAM\n"
      ]
    },
    {
      "cell_type": "markdown",
      "metadata": {
        "colab_type": "text",
        "id": "4qUYcGjLGTaQ"
      },
      "source": [
        "## Car Kinematics"
      ]
    },
    {
      "cell_type": "markdown",
      "metadata": {
        "colab_type": "text",
        "id": "K5BtAxD9G2Au"
      },
      "source": [
        "## Point Cloud Alignment"
      ]
    },
    {
      "cell_type": "markdown",
      "metadata": {
        "colab_type": "text",
        "id": "yY0_0M00IXYt"
      },
      "source": [
        "## Dense Mapping"
      ]
    },
    {
      "cell_type": "markdown",
      "metadata": {
        "colab_type": "text",
        "id": "5SjqkwjRIUA4"
      },
      "source": [
        "## A* Path Planning"
      ]
    },
    {
      "cell_type": "markdown",
      "metadata": {
        "colab_type": "text",
        "id": "-t77cFaTrBcL"
      },
      "source": [
        "## poseSLAM"
      ]
    }
  ]
}