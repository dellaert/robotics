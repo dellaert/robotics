{
 "cells": [
  {
   "cell_type": "markdown",
   "metadata": {},
   "source": [
    "## Overview\n",
    "\n",
    "There are 7 chapters in this book, where we discuss the sense-think-act cycle for increasingly complex robots:\n",
    "\n",
    "1. [Agents](01/Agents): in this chapter we discuss the sense-think-act in a simple simulated agent environment, and discuss classical planning, discret state estimation, and reinforcement learning.\n",
    "\n",
    "2. [A Differential Drive Robot](02/DiffDrive): the DuckieBot robot is a simple, differential drive robot, and in this chapter we only discuss simple wheel encoder sensors. This nevertheless allows us to think about where we are and where we want to go, using simple differential steering as the action.\n",
    "\n",
    "3. [Planar Manipulators](03/PlanarArm): besides mobile robots, mobile manipulators are another important topic in robotics. In this chapter we discuss *planar* arms, with simple joint angle sensors and torques applied at the joints for action.\n",
    "\n",
    "4. [Vision for Robots](04/DuckieBot3): in this chapter we introduce *vision* as one of the most important sensors in robotics.\n",
    "\n",
    "5. [Self-driving Cars](05/SelfDrivingCar): in autonomous vehicles an expensive, yet frequently used sensor is a *LIDAR*. This allows us to do dense mapping, and planning in those maps.\n",
    "\n",
    "6. [Visual SLAM](06/DuckieBot4): cameras are more suited to sparse point-cloud mapping, for which the geometry and math is a bit more involved. We discuss bundle adjustment and the sparse linear algebra topics needed for computational efficiency.\n",
    "\n",
    "7. [Deep Learning](07/DuckieBot5): finally, in this last chapter we touch upon topics in deep learning, which has profoundly changed perception and planning in robotics."
   ]
  }
 ],
 "metadata": {
  "kernelspec": {
   "display_name": "Python 3",
   "language": "python",
   "name": "python3"
  },
  "language_info": {
   "codemirror_mode": {
    "name": "ipython",
    "version": 3
   },
   "file_extension": ".py",
   "mimetype": "text/x-python",
   "name": "python",
   "nbconvert_exporter": "python",
   "pygments_lexer": "ipython3",
   "version": "3.7.3"
  },
  "widgets": {
   "application/vnd.jupyter.widget-state+json": {
    "state": {},
    "version_major": 2,
    "version_minor": 0
   }
  }
 },
 "nbformat": 4,
 "nbformat_minor": 4
}